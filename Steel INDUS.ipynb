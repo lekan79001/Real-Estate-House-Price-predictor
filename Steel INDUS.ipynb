{
 "cells": [
  {
   "cell_type": "code",
   "execution_count": 1,
   "id": "6325c24e",
   "metadata": {},
   "outputs": [],
   "source": [
    "import pandas as pd \n",
    "import numpy as np   \n",
    "import seaborn  as sns  \n",
    "import matplotlib.pyplot as plt \n",
    "import plotly.express as px \n",
    "import plotly.graph_objects as go \n",
    "import glob as glob "
   ]
  },
  {
   "cell_type": "code",
   "execution_count": 2,
   "id": "d4e98d06",
   "metadata": {},
   "outputs": [],
   "source": [
    "def wrangle (filepath):\n",
    "    df = pd.read_csv(filepath)\n",
    "     \n",
    "    return df"
   ]
  },
  {
   "cell_type": "code",
   "execution_count": 3,
   "id": "73a454cd",
   "metadata": {},
   "outputs": [],
   "source": [
    "folder = glob.glob(r\"C:\\Users\\user\\Downloads\\steel+industry+energy+consumption\\Steel_industry_data.csv\")"
   ]
  },
  {
   "cell_type": "code",
   "execution_count": 11,
   "id": "f9f1a258",
   "metadata": {},
   "outputs": [],
   "source": [
    "frame = []\n",
    "for file in folder:\n",
    "    df = wrangle(file)\n",
    "    frame.append(df)\n"
   ]
  },
  {
   "cell_type": "code",
   "execution_count": 5,
   "id": "ee742954",
   "metadata": {},
   "outputs": [],
   "source": [
    "df = pd.concat(frame, ignore_index=True)"
   ]
  },
  {
   "cell_type": "code",
   "execution_count": 6,
   "id": "57884ae2",
   "metadata": {},
   "outputs": [
    {
     "name": "stdout",
     "output_type": "stream",
     "text": [
      "<class 'pandas.core.frame.DataFrame'>\n",
      "RangeIndex: 35040 entries, 0 to 35039\n",
      "Data columns (total 11 columns):\n",
      " #   Column                                Non-Null Count  Dtype  \n",
      "---  ------                                --------------  -----  \n",
      " 0   date                                  35040 non-null  object \n",
      " 1   Usage_kWh                             35040 non-null  float64\n",
      " 2   Lagging_Current_Reactive.Power_kVarh  35040 non-null  float64\n",
      " 3   Leading_Current_Reactive_Power_kVarh  35040 non-null  float64\n",
      " 4   CO2(tCO2)                             35040 non-null  float64\n",
      " 5   Lagging_Current_Power_Factor          35040 non-null  float64\n",
      " 6   Leading_Current_Power_Factor          35040 non-null  float64\n",
      " 7   NSM                                   35040 non-null  int64  \n",
      " 8   WeekStatus                            35040 non-null  object \n",
      " 9   Day_of_week                           35040 non-null  object \n",
      " 10  Load_Type                             35040 non-null  object \n",
      "dtypes: float64(6), int64(1), object(4)\n",
      "memory usage: 2.9+ MB\n"
     ]
    }
   ],
   "source": [
    "df.info()"
   ]
  },
  {
   "cell_type": "code",
   "execution_count": 7,
   "id": "c5b5266c",
   "metadata": {},
   "outputs": [
    {
     "data": {
      "application/vnd.microsoft.datawrangler.viewer.v0+json": {
       "columns": [
        {
         "name": "index",
         "rawType": "int64",
         "type": "integer"
        },
        {
         "name": "date",
         "rawType": "object",
         "type": "string"
        },
        {
         "name": "Usage_kWh",
         "rawType": "float64",
         "type": "float"
        },
        {
         "name": "Lagging_Current_Reactive.Power_kVarh",
         "rawType": "float64",
         "type": "float"
        },
        {
         "name": "Leading_Current_Reactive_Power_kVarh",
         "rawType": "float64",
         "type": "float"
        },
        {
         "name": "CO2(tCO2)",
         "rawType": "float64",
         "type": "float"
        },
        {
         "name": "Lagging_Current_Power_Factor",
         "rawType": "float64",
         "type": "float"
        },
        {
         "name": "Leading_Current_Power_Factor",
         "rawType": "float64",
         "type": "float"
        },
        {
         "name": "NSM",
         "rawType": "int64",
         "type": "integer"
        },
        {
         "name": "WeekStatus",
         "rawType": "object",
         "type": "string"
        },
        {
         "name": "Day_of_week",
         "rawType": "object",
         "type": "string"
        },
        {
         "name": "Load_Type",
         "rawType": "object",
         "type": "string"
        }
       ],
       "conversionMethod": "pd.DataFrame",
       "ref": "edbc371f-b431-47c8-b2bc-14f36ecd0df9",
       "rows": [
        [
         "0",
         "01/01/2018 00:15",
         "3.17",
         "2.95",
         "0.0",
         "0.0",
         "73.21",
         "100.0",
         "900",
         "Weekday",
         "Monday",
         "Light_Load"
        ],
        [
         "1",
         "01/01/2018 00:30",
         "4.0",
         "4.46",
         "0.0",
         "0.0",
         "66.77",
         "100.0",
         "1800",
         "Weekday",
         "Monday",
         "Light_Load"
        ],
        [
         "2",
         "01/01/2018 00:45",
         "3.24",
         "3.28",
         "0.0",
         "0.0",
         "70.28",
         "100.0",
         "2700",
         "Weekday",
         "Monday",
         "Light_Load"
        ],
        [
         "3",
         "01/01/2018 01:00",
         "3.31",
         "3.56",
         "0.0",
         "0.0",
         "68.09",
         "100.0",
         "3600",
         "Weekday",
         "Monday",
         "Light_Load"
        ],
        [
         "4",
         "01/01/2018 01:15",
         "3.82",
         "4.5",
         "0.0",
         "0.0",
         "64.72",
         "100.0",
         "4500",
         "Weekday",
         "Monday",
         "Light_Load"
        ]
       ],
       "shape": {
        "columns": 11,
        "rows": 5
       }
      },
      "text/html": [
       "<div>\n",
       "<style scoped>\n",
       "    .dataframe tbody tr th:only-of-type {\n",
       "        vertical-align: middle;\n",
       "    }\n",
       "\n",
       "    .dataframe tbody tr th {\n",
       "        vertical-align: top;\n",
       "    }\n",
       "\n",
       "    .dataframe thead th {\n",
       "        text-align: right;\n",
       "    }\n",
       "</style>\n",
       "<table border=\"1\" class=\"dataframe\">\n",
       "  <thead>\n",
       "    <tr style=\"text-align: right;\">\n",
       "      <th></th>\n",
       "      <th>date</th>\n",
       "      <th>Usage_kWh</th>\n",
       "      <th>Lagging_Current_Reactive.Power_kVarh</th>\n",
       "      <th>Leading_Current_Reactive_Power_kVarh</th>\n",
       "      <th>CO2(tCO2)</th>\n",
       "      <th>Lagging_Current_Power_Factor</th>\n",
       "      <th>Leading_Current_Power_Factor</th>\n",
       "      <th>NSM</th>\n",
       "      <th>WeekStatus</th>\n",
       "      <th>Day_of_week</th>\n",
       "      <th>Load_Type</th>\n",
       "    </tr>\n",
       "  </thead>\n",
       "  <tbody>\n",
       "    <tr>\n",
       "      <th>0</th>\n",
       "      <td>01/01/2018 00:15</td>\n",
       "      <td>3.17</td>\n",
       "      <td>2.95</td>\n",
       "      <td>0.0</td>\n",
       "      <td>0.0</td>\n",
       "      <td>73.21</td>\n",
       "      <td>100.0</td>\n",
       "      <td>900</td>\n",
       "      <td>Weekday</td>\n",
       "      <td>Monday</td>\n",
       "      <td>Light_Load</td>\n",
       "    </tr>\n",
       "    <tr>\n",
       "      <th>1</th>\n",
       "      <td>01/01/2018 00:30</td>\n",
       "      <td>4.00</td>\n",
       "      <td>4.46</td>\n",
       "      <td>0.0</td>\n",
       "      <td>0.0</td>\n",
       "      <td>66.77</td>\n",
       "      <td>100.0</td>\n",
       "      <td>1800</td>\n",
       "      <td>Weekday</td>\n",
       "      <td>Monday</td>\n",
       "      <td>Light_Load</td>\n",
       "    </tr>\n",
       "    <tr>\n",
       "      <th>2</th>\n",
       "      <td>01/01/2018 00:45</td>\n",
       "      <td>3.24</td>\n",
       "      <td>3.28</td>\n",
       "      <td>0.0</td>\n",
       "      <td>0.0</td>\n",
       "      <td>70.28</td>\n",
       "      <td>100.0</td>\n",
       "      <td>2700</td>\n",
       "      <td>Weekday</td>\n",
       "      <td>Monday</td>\n",
       "      <td>Light_Load</td>\n",
       "    </tr>\n",
       "    <tr>\n",
       "      <th>3</th>\n",
       "      <td>01/01/2018 01:00</td>\n",
       "      <td>3.31</td>\n",
       "      <td>3.56</td>\n",
       "      <td>0.0</td>\n",
       "      <td>0.0</td>\n",
       "      <td>68.09</td>\n",
       "      <td>100.0</td>\n",
       "      <td>3600</td>\n",
       "      <td>Weekday</td>\n",
       "      <td>Monday</td>\n",
       "      <td>Light_Load</td>\n",
       "    </tr>\n",
       "    <tr>\n",
       "      <th>4</th>\n",
       "      <td>01/01/2018 01:15</td>\n",
       "      <td>3.82</td>\n",
       "      <td>4.50</td>\n",
       "      <td>0.0</td>\n",
       "      <td>0.0</td>\n",
       "      <td>64.72</td>\n",
       "      <td>100.0</td>\n",
       "      <td>4500</td>\n",
       "      <td>Weekday</td>\n",
       "      <td>Monday</td>\n",
       "      <td>Light_Load</td>\n",
       "    </tr>\n",
       "  </tbody>\n",
       "</table>\n",
       "</div>"
      ],
      "text/plain": [
       "               date  Usage_kWh  Lagging_Current_Reactive.Power_kVarh  \\\n",
       "0  01/01/2018 00:15       3.17                                  2.95   \n",
       "1  01/01/2018 00:30       4.00                                  4.46   \n",
       "2  01/01/2018 00:45       3.24                                  3.28   \n",
       "3  01/01/2018 01:00       3.31                                  3.56   \n",
       "4  01/01/2018 01:15       3.82                                  4.50   \n",
       "\n",
       "   Leading_Current_Reactive_Power_kVarh  CO2(tCO2)  \\\n",
       "0                                   0.0        0.0   \n",
       "1                                   0.0        0.0   \n",
       "2                                   0.0        0.0   \n",
       "3                                   0.0        0.0   \n",
       "4                                   0.0        0.0   \n",
       "\n",
       "   Lagging_Current_Power_Factor  Leading_Current_Power_Factor   NSM  \\\n",
       "0                         73.21                         100.0   900   \n",
       "1                         66.77                         100.0  1800   \n",
       "2                         70.28                         100.0  2700   \n",
       "3                         68.09                         100.0  3600   \n",
       "4                         64.72                         100.0  4500   \n",
       "\n",
       "  WeekStatus Day_of_week   Load_Type  \n",
       "0    Weekday      Monday  Light_Load  \n",
       "1    Weekday      Monday  Light_Load  \n",
       "2    Weekday      Monday  Light_Load  \n",
       "3    Weekday      Monday  Light_Load  \n",
       "4    Weekday      Monday  Light_Load  "
      ]
     },
     "execution_count": 7,
     "metadata": {},
     "output_type": "execute_result"
    }
   ],
   "source": [
    "df.head()"
   ]
  },
  {
   "cell_type": "code",
   "execution_count": 13,
   "id": "28189e4b",
   "metadata": {},
   "outputs": [
    {
     "data": {
      "image/png": "[encoded data removed]",
      "text/plain": [
       "<Figure size 640x480 with 1 Axes>"
      ]
     },
     "metadata": {},
     "output_type": "display_data"
    }
   ],
   "source": [
    "plt.boxplot(df[\"Usage_kWh\"])\n",
    "plt.xlabel(\"Consumption per hour\")\n",
    "plt.title(\"Steel Industry power consumption\");"
   ]
  },
  {
   "cell_type": "code",
   "execution_count": 9,
   "id": "8400a312",
   "metadata": {},
   "outputs": [
    {
     "data": {
      "text/plain": [
       "Index(['date', 'Usage_kWh', 'Lagging_Current_Reactive.Power_kVarh',\n",
       "       'Leading_Current_Reactive_Power_kVarh', 'CO2(tCO2)',\n",
       "       'Lagging_Current_Power_Factor', 'Leading_Current_Power_Factor', 'NSM',\n",
       "       'WeekStatus', 'Day_of_week', 'Load_Type'],\n",
       "      dtype='object')"
      ]
     },
     "execution_count": 9,
     "metadata": {},
     "output_type": "execute_result"
    }
   ],
   "source": [
    "df.columns"
   ]
  },
  {
   "cell_type": "code",
   "execution_count": 19,
   "id": "9cc3913b",
   "metadata": {},
   "outputs": [],
   "source": [
    "df[\"date\"] = pd.to_datetime(df[\"date\"], errors='coerce')"
   ]
  },
  {
   "cell_type": "code",
   "execution_count": 21,
   "id": "4d37df90",
   "metadata": {},
   "outputs": [
    {
     "data": {
      "text/plain": [
       "<DatetimeArray>\n",
       "['2018-01-01 00:15:00', '2018-01-01 00:30:00', '2018-01-01 00:45:00',\n",
       " '2018-01-01 01:00:00', '2018-01-01 01:15:00', '2018-01-01 01:30:00',\n",
       " '2018-01-01 01:45:00', '2018-01-01 02:00:00', '2018-01-01 02:15:00',\n",
       " '2018-01-01 02:30:00',\n",
       " ...\n",
       " '2018-12-31 21:45:00', '2018-12-31 22:00:00', '2018-12-31 22:15:00',\n",
       " '2018-12-31 22:30:00', '2018-12-31 22:45:00', '2018-12-31 23:00:00',\n",
       " '2018-12-31 23:15:00', '2018-12-31 23:30:00', '2018-12-31 23:45:00',\n",
       " '2018-12-31 00:00:00']\n",
       "Length: 35040, dtype: datetime64[ns]"
      ]
     },
     "execution_count": 21,
     "metadata": {},
     "output_type": "execute_result"
    }
   ],
   "source": [
    "df[\"date\"].unique()"
   ]
  },
  {
   "cell_type": "code",
   "execution_count": null,
   "id": "947e7931",
   "metadata": {},
   "outputs": [],
   "source": [
    "cor = df.corr(). df.drop(columns"
   ]
  },
  {
   "cell_type": "code",
   "execution_count": 22,
   "id": "663eabf7",
   "metadata": {},
   "outputs": [
    {
     "ename": "ValueError",
     "evalue": "could not convert string to float: 'Weekday'",
     "output_type": "error",
     "traceback": [
      "\u001b[1;31m---------------------------------------------------------------------------\u001b[0m",
      "\u001b[1;31mValueError\u001b[0m                                Traceback (most recent call last)",
      "Cell \u001b[1;32mIn[22], line 1\u001b[0m\n\u001b[1;32m----> 1\u001b[0m cor \u001b[38;5;241m=\u001b[39m \u001b[43mdf\u001b[49m\u001b[38;5;241;43m.\u001b[39;49m\u001b[43mcorr\u001b[49m\u001b[43m(\u001b[49m\u001b[43m)\u001b[49m\u001b[38;5;241m.\u001b[39m df\u001b[38;5;241m.\u001b[39mdrop(columns\u001b[38;5;241m=\u001b[39m[\u001b[38;5;124m\"\u001b[39m\u001b[38;5;124mLeading_Current_Reactive.Power_kVarh\u001b[39m\u001b[38;5;124m\"\u001b[39m,\u001b[38;5;124m\"\u001b[39m\u001b[38;5;124mLeading_Current_Reactive_Power_kVarh\u001b[39m\u001b[38;5;124m\"\u001b[39m,\u001b[38;5;124m\"\u001b[39m\u001b[38;5;124mLagging_Current_Power_Factor\u001b[39m\u001b[38;5;124m\"\u001b[39m,\u001b[38;5;124m\"\u001b[39m\u001b[38;5;124mLeading_Current_Power_Factor\u001b[39m\u001b[38;5;124m\"\u001b[39m,\u001b[38;5;124m\"\u001b[39m\u001b[38;5;124mNSM\u001b[39m\u001b[38;5;124m\"\u001b[39m], inplace\u001b[38;5;241m=\u001b[39m\u001b[38;5;28;01mTrue\u001b[39;00m)\n",
      "File \u001b[1;32mc:\\Users\\user\\AppData\\Local\\Programs\\Python\\Python312\\Lib\\site-packages\\pandas\\core\\frame.py:11049\u001b[0m, in \u001b[0;36mDataFrame.corr\u001b[1;34m(self, method, min_periods, numeric_only)\u001b[0m\n\u001b[0;32m  11047\u001b[0m cols \u001b[38;5;241m=\u001b[39m data\u001b[38;5;241m.\u001b[39mcolumns\n\u001b[0;32m  11048\u001b[0m idx \u001b[38;5;241m=\u001b[39m cols\u001b[38;5;241m.\u001b[39mcopy()\n\u001b[1;32m> 11049\u001b[0m mat \u001b[38;5;241m=\u001b[39m \u001b[43mdata\u001b[49m\u001b[38;5;241;43m.\u001b[39;49m\u001b[43mto_numpy\u001b[49m\u001b[43m(\u001b[49m\u001b[43mdtype\u001b[49m\u001b[38;5;241;43m=\u001b[39;49m\u001b[38;5;28;43mfloat\u001b[39;49m\u001b[43m,\u001b[49m\u001b[43m \u001b[49m\u001b[43mna_value\u001b[49m\u001b[38;5;241;43m=\u001b[39;49m\u001b[43mnp\u001b[49m\u001b[38;5;241;43m.\u001b[39;49m\u001b[43mnan\u001b[49m\u001b[43m,\u001b[49m\u001b[43m \u001b[49m\u001b[43mcopy\u001b[49m\u001b[38;5;241;43m=\u001b[39;49m\u001b[38;5;28;43;01mFalse\u001b[39;49;00m\u001b[43m)\u001b[49m\n\u001b[0;32m  11051\u001b[0m \u001b[38;5;28;01mif\u001b[39;00m method \u001b[38;5;241m==\u001b[39m \u001b[38;5;124m\"\u001b[39m\u001b[38;5;124mpearson\u001b[39m\u001b[38;5;124m\"\u001b[39m:\n\u001b[0;32m  11052\u001b[0m     correl \u001b[38;5;241m=\u001b[39m libalgos\u001b[38;5;241m.\u001b[39mnancorr(mat, minp\u001b[38;5;241m=\u001b[39mmin_periods)\n",
      "File \u001b[1;32mc:\\Users\\user\\AppData\\Local\\Programs\\Python\\Python312\\Lib\\site-packages\\pandas\\core\\frame.py:1993\u001b[0m, in \u001b[0;36mDataFrame.to_numpy\u001b[1;34m(self, dtype, copy, na_value)\u001b[0m\n\u001b[0;32m   1991\u001b[0m \u001b[38;5;28;01mif\u001b[39;00m dtype \u001b[38;5;129;01mis\u001b[39;00m \u001b[38;5;129;01mnot\u001b[39;00m \u001b[38;5;28;01mNone\u001b[39;00m:\n\u001b[0;32m   1992\u001b[0m     dtype \u001b[38;5;241m=\u001b[39m np\u001b[38;5;241m.\u001b[39mdtype(dtype)\n\u001b[1;32m-> 1993\u001b[0m result \u001b[38;5;241m=\u001b[39m \u001b[38;5;28;43mself\u001b[39;49m\u001b[38;5;241;43m.\u001b[39;49m\u001b[43m_mgr\u001b[49m\u001b[38;5;241;43m.\u001b[39;49m\u001b[43mas_array\u001b[49m\u001b[43m(\u001b[49m\u001b[43mdtype\u001b[49m\u001b[38;5;241;43m=\u001b[39;49m\u001b[43mdtype\u001b[49m\u001b[43m,\u001b[49m\u001b[43m \u001b[49m\u001b[43mcopy\u001b[49m\u001b[38;5;241;43m=\u001b[39;49m\u001b[43mcopy\u001b[49m\u001b[43m,\u001b[49m\u001b[43m \u001b[49m\u001b[43mna_value\u001b[49m\u001b[38;5;241;43m=\u001b[39;49m\u001b[43mna_value\u001b[49m\u001b[43m)\u001b[49m\n\u001b[0;32m   1994\u001b[0m \u001b[38;5;28;01mif\u001b[39;00m result\u001b[38;5;241m.\u001b[39mdtype \u001b[38;5;129;01mis\u001b[39;00m \u001b[38;5;129;01mnot\u001b[39;00m dtype:\n\u001b[0;32m   1995\u001b[0m     result \u001b[38;5;241m=\u001b[39m np\u001b[38;5;241m.\u001b[39masarray(result, dtype\u001b[38;5;241m=\u001b[39mdtype)\n",
      "File \u001b[1;32mc:\\Users\\user\\AppData\\Local\\Programs\\Python\\Python312\\Lib\\site-packages\\pandas\\core\\internals\\managers.py:1694\u001b[0m, in \u001b[0;36mBlockManager.as_array\u001b[1;34m(self, dtype, copy, na_value)\u001b[0m\n\u001b[0;32m   1692\u001b[0m         arr\u001b[38;5;241m.\u001b[39mflags\u001b[38;5;241m.\u001b[39mwriteable \u001b[38;5;241m=\u001b[39m \u001b[38;5;28;01mFalse\u001b[39;00m\n\u001b[0;32m   1693\u001b[0m \u001b[38;5;28;01melse\u001b[39;00m:\n\u001b[1;32m-> 1694\u001b[0m     arr \u001b[38;5;241m=\u001b[39m \u001b[38;5;28;43mself\u001b[39;49m\u001b[38;5;241;43m.\u001b[39;49m\u001b[43m_interleave\u001b[49m\u001b[43m(\u001b[49m\u001b[43mdtype\u001b[49m\u001b[38;5;241;43m=\u001b[39;49m\u001b[43mdtype\u001b[49m\u001b[43m,\u001b[49m\u001b[43m \u001b[49m\u001b[43mna_value\u001b[49m\u001b[38;5;241;43m=\u001b[39;49m\u001b[43mna_value\u001b[49m\u001b[43m)\u001b[49m\n\u001b[0;32m   1695\u001b[0m     \u001b[38;5;66;03m# The underlying data was copied within _interleave, so no need\u001b[39;00m\n\u001b[0;32m   1696\u001b[0m     \u001b[38;5;66;03m# to further copy if copy=True or setting na_value\u001b[39;00m\n\u001b[0;32m   1698\u001b[0m \u001b[38;5;28;01mif\u001b[39;00m na_value \u001b[38;5;129;01mis\u001b[39;00m lib\u001b[38;5;241m.\u001b[39mno_default:\n",
      "File \u001b[1;32mc:\\Users\\user\\AppData\\Local\\Programs\\Python\\Python312\\Lib\\site-packages\\pandas\\core\\internals\\managers.py:1753\u001b[0m, in \u001b[0;36mBlockManager._interleave\u001b[1;34m(self, dtype, na_value)\u001b[0m\n\u001b[0;32m   1751\u001b[0m     \u001b[38;5;28;01melse\u001b[39;00m:\n\u001b[0;32m   1752\u001b[0m         arr \u001b[38;5;241m=\u001b[39m blk\u001b[38;5;241m.\u001b[39mget_values(dtype)\n\u001b[1;32m-> 1753\u001b[0m     \u001b[43mresult\u001b[49m\u001b[43m[\u001b[49m\u001b[43mrl\u001b[49m\u001b[38;5;241;43m.\u001b[39;49m\u001b[43mindexer\u001b[49m\u001b[43m]\u001b[49m \u001b[38;5;241m=\u001b[39m arr\n\u001b[0;32m   1754\u001b[0m     itemmask[rl\u001b[38;5;241m.\u001b[39mindexer] \u001b[38;5;241m=\u001b[39m \u001b[38;5;241m1\u001b[39m\n\u001b[0;32m   1756\u001b[0m \u001b[38;5;28;01mif\u001b[39;00m \u001b[38;5;129;01mnot\u001b[39;00m itemmask\u001b[38;5;241m.\u001b[39mall():\n",
      "\u001b[1;31mValueError\u001b[0m: could not convert string to float: 'Weekday'"
     ]
    }
   ],
   "source": [
    "cor = df.corr(). df.drop(columns=[\"Leading_Current_Reactive.Power_kVarh\",\"Leading_Current_Reactive_Power_kVarh\",\"Lagging_Current_Power_Factor\",\"Leading_Current_Power_Factor\",\"NSM\"], inplace=True)"
   ]
  },
  {
   "cell_type": "code",
   "execution_count": null,
   "id": "a85ac419",
   "metadata": {},
   "outputs": [],
   "source": []
  }
 ],
 "metadata": {
  "kernelspec": {
   "display_name": "Python 3",
   "language": "python",
   "name": "python3"
  },
  "language_info": {
   "codemirror_mode": {
    "name": "ipython",
    "version": 3
   },
   "file_extension": ".py",
   "mimetype": "text/x-python",
   "name": "python",
   "nbconvert_exporter": "python",
   "pygments_lexer": "ipython3",
   "version": "3.12.3"
  }
 },
 "nbformat": 4,
 "nbformat_minor": 5
}

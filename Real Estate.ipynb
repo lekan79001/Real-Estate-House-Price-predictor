{
 "cells": [
  {
   "cell_type": "markdown",
   "id": "afbf5a8d",
   "metadata": {},
   "source": [
    "### EXPLORATORY DATA ANALYSIS\n"
   ]
  },
  {
   "cell_type": "code",
   "execution_count": 35,
   "id": "802425d3",
   "metadata": {},
   "outputs": [],
   "source": [
    "\n",
<<<<<<< HEAD
    "import streamlit as st \n",
    " import os \n",
=======
>>>>>>> b6d6e4b (first commit)
    "import pandas as pd \n",
    "import numpy as np \n",
    "import seaborn as sns  \n",
    "import matplotlib.pyplot as plt  \n",
    "import plotly.express as px  \n",
    "import plotly.graph_objects as go \n",
    "import glob as glob  \n",
    "# splitting the dataset into train and test sets\n",
    "from sklearn.model_selection import train_test_split\n",
    "from sklearn.model_selection import cross_val_score # for limited dataset\n",
    "# BUILDING MODEL \n",
    "from sklearn.metrics import make_scorer, mean_absolute_error\n",
    "from sklearn.linear_model import LinearRegression\n",
    "from ipywidgets import interact\n"
   ]
  },
  {
   "cell_type": "code",
   "execution_count": 3,
   "id": "931de1f9",
   "metadata": {},
   "outputs": [],
   "source": [
    "def wrangle (filepath):\n",
    "    \n",
    "    df = pd.read_excel(filepath)\n",
    "    \n",
    "     # DROP UNNECESSARY COLUMNS\n",
    "     \n",
    "    df.drop(columns=\"No\", inplace=True)\n",
    "    \n",
    "    # DROP low cardinality columns\n",
    "    \n",
    "    df.drop(columns=\"X1 transaction date\", inplace=True)\n",
    "\n",
    "    \n",
    "    return df"
   ]
  },
  {
   "cell_type": "code",
   "execution_count": 4,
   "id": "2656cc12",
   "metadata": {},
   "outputs": [],
   "source": [
    "folder = glob.glob(r\"\\Users\\user\\Downloads\\real+estate+valuation+data+set\\Real estate valuation data set.xlsx\")"
   ]
  },
  {
   "cell_type": "code",
   "execution_count": 5,
   "id": "afdfb2d3",
   "metadata": {},
   "outputs": [],
   "source": [
    "frame = []\n",
    "for file in folder:\n",
    "    df = wrangle(file)\n",
    "    frame.append(df)"
   ]
  },
  {
   "cell_type": "code",
   "execution_count": 6,
   "id": "3391e6d0",
   "metadata": {},
   "outputs": [],
   "source": [
    "df = pd.concat(frame, ignore_index=True)"
   ]
  },
  {
   "cell_type": "code",
   "execution_count": 7,
   "id": "5a20e8b3",
   "metadata": {},
   "outputs": [
    {
     "name": "stdout",
     "output_type": "stream",
     "text": [
      "<class 'pandas.core.frame.DataFrame'>\n",
      "RangeIndex: 414 entries, 0 to 413\n",
      "Data columns (total 6 columns):\n",
      " #   Column                                  Non-Null Count  Dtype  \n",
      "---  ------                                  --------------  -----  \n",
      " 0   X2 house age                            414 non-null    float64\n",
      " 1   X3 distance to the nearest MRT station  414 non-null    float64\n",
      " 2   X4 number of convenience stores         414 non-null    int64  \n",
      " 3   X5 latitude                             414 non-null    float64\n",
      " 4   X6 longitude                            414 non-null    float64\n",
      " 5   Y house price of unit area              414 non-null    float64\n",
      "dtypes: float64(5), int64(1)\n",
      "memory usage: 19.5 KB\n"
     ]
    }
   ],
   "source": [
    "df.info()"
   ]
  },
  {
   "cell_type": "code",
   "execution_count": 8,
   "id": "4610ed78",
   "metadata": {},
   "outputs": [
    {
     "data": {
      "application/vnd.microsoft.datawrangler.viewer.v0+json": {
       "columns": [
        {
         "name": "index",
         "rawType": "int64",
         "type": "integer"
        },
        {
         "name": "X2 house age",
         "rawType": "float64",
         "type": "float"
        },
        {
         "name": "X3 distance to the nearest MRT station",
         "rawType": "float64",
         "type": "float"
        },
        {
         "name": "X4 number of convenience stores",
         "rawType": "int64",
         "type": "integer"
        },
        {
         "name": "X5 latitude",
         "rawType": "float64",
         "type": "float"
        },
        {
         "name": "X6 longitude",
         "rawType": "float64",
         "type": "float"
        },
        {
         "name": "Y house price of unit area",
         "rawType": "float64",
         "type": "float"
        }
       ],
       "conversionMethod": "pd.DataFrame",
       "ref": "1fb7f493-7378-465e-a409-16aa454b0bd5",
       "rows": [
        [
         "0",
         "32.0",
         "84.87882",
         "10",
         "24.98298",
         "121.54024",
         "37.9"
        ],
        [
         "1",
         "19.5",
         "306.5947",
         "9",
         "24.98034",
         "121.53951",
         "42.2"
        ],
        [
         "2",
         "13.3",
         "561.9845",
         "5",
         "24.98746",
         "121.54391",
         "47.3"
        ],
        [
         "3",
         "13.3",
         "561.9845",
         "5",
         "24.98746",
         "121.54391",
         "54.8"
        ],
        [
         "4",
         "5.0",
         "390.5684",
         "5",
         "24.97937",
         "121.54245",
         "43.1"
        ]
       ],
       "shape": {
        "columns": 6,
        "rows": 5
       }
      },
      "text/html": [
       "<div>\n",
       "<style scoped>\n",
       "    .dataframe tbody tr th:only-of-type {\n",
       "        vertical-align: middle;\n",
       "    }\n",
       "\n",
       "    .dataframe tbody tr th {\n",
       "        vertical-align: top;\n",
       "    }\n",
       "\n",
       "    .dataframe thead th {\n",
       "        text-align: right;\n",
       "    }\n",
       "</style>\n",
       "<table border=\"1\" class=\"dataframe\">\n",
       "  <thead>\n",
       "    <tr style=\"text-align: right;\">\n",
       "      <th></th>\n",
       "      <th>X2 house age</th>\n",
       "      <th>X3 distance to the nearest MRT station</th>\n",
       "      <th>X4 number of convenience stores</th>\n",
       "      <th>X5 latitude</th>\n",
       "      <th>X6 longitude</th>\n",
       "      <th>Y house price of unit area</th>\n",
       "    </tr>\n",
       "  </thead>\n",
       "  <tbody>\n",
       "    <tr>\n",
       "      <th>0</th>\n",
       "      <td>32.0</td>\n",
       "      <td>84.87882</td>\n",
       "      <td>10</td>\n",
       "      <td>24.98298</td>\n",
       "      <td>121.54024</td>\n",
       "      <td>37.9</td>\n",
       "    </tr>\n",
       "    <tr>\n",
       "      <th>1</th>\n",
       "      <td>19.5</td>\n",
       "      <td>306.59470</td>\n",
       "      <td>9</td>\n",
       "      <td>24.98034</td>\n",
       "      <td>121.53951</td>\n",
       "      <td>42.2</td>\n",
       "    </tr>\n",
       "    <tr>\n",
       "      <th>2</th>\n",
       "      <td>13.3</td>\n",
       "      <td>561.98450</td>\n",
       "      <td>5</td>\n",
       "      <td>24.98746</td>\n",
       "      <td>121.54391</td>\n",
       "      <td>47.3</td>\n",
       "    </tr>\n",
       "    <tr>\n",
       "      <th>3</th>\n",
       "      <td>13.3</td>\n",
       "      <td>561.98450</td>\n",
       "      <td>5</td>\n",
       "      <td>24.98746</td>\n",
       "      <td>121.54391</td>\n",
       "      <td>54.8</td>\n",
       "    </tr>\n",
       "    <tr>\n",
       "      <th>4</th>\n",
       "      <td>5.0</td>\n",
       "      <td>390.56840</td>\n",
       "      <td>5</td>\n",
       "      <td>24.97937</td>\n",
       "      <td>121.54245</td>\n",
       "      <td>43.1</td>\n",
       "    </tr>\n",
       "  </tbody>\n",
       "</table>\n",
       "</div>"
      ],
      "text/plain": [
       "   X2 house age  X3 distance to the nearest MRT station  \\\n",
       "0          32.0                                84.87882   \n",
       "1          19.5                               306.59470   \n",
       "2          13.3                               561.98450   \n",
       "3          13.3                               561.98450   \n",
       "4           5.0                               390.56840   \n",
       "\n",
       "   X4 number of convenience stores  X5 latitude  X6 longitude  \\\n",
       "0                               10     24.98298     121.54024   \n",
       "1                                9     24.98034     121.53951   \n",
       "2                                5     24.98746     121.54391   \n",
       "3                                5     24.98746     121.54391   \n",
       "4                                5     24.97937     121.54245   \n",
       "\n",
       "   Y house price of unit area  \n",
       "0                        37.9  \n",
       "1                        42.2  \n",
       "2                        47.3  \n",
       "3                        54.8  \n",
       "4                        43.1  "
      ]
     },
     "execution_count": 8,
     "metadata": {},
     "output_type": "execute_result"
    }
   ],
   "source": [
    "df.shape\n",
    "df.head()"
   ]
  },
  {
   "cell_type": "code",
   "execution_count": 9,
   "id": "c8f9cc5f",
   "metadata": {},
   "outputs": [
    {
     "data": {
      "application/vnd.plotly.v1+json": {
       "config": {
        "plotlyServerURL": "https://plot.ly"
       },
       "data": [
        {
         "hovertemplate": "<b>%{hovertext}</b><br><br>Y house price of unit area=%{marker.color}<br>X5 latitude=%{lat}<br>X6 longitude=%{lon}<extra></extra>",
         "hovertext": [
          117.5,
          78.3,
          78,
          73.6,
          71,
          70.1,
          69.7,
          67.7,
          63.9,
          63.3
         ],
         "lat": [
          24.9746,
          24.97703,
          24.97071,
          24.97744,
          24.97744,
          24.97744,
          24.97744,
          24.96756,
          24.97433,
          24.97345
         ],
         "legendgroup": "",
         "lon": [
          121.53046,
          121.54265,
          121.54069,
          121.54458,
          121.54458,
          121.54458,
          121.54458,
          121.5423,
          121.5431,
          121.54093
         ],
         "marker": {
          "color": [
           117.5,
           78.3,
           78,
           73.6,
           71,
           70.1,
           69.7,
           67.7,
           63.9,
           63.3
          ],
          "coloraxis": "coloraxis",
          "size": [
           117.5,
           78.3,
           78,
           73.6,
           71,
           70.1,
           69.7,
           67.7,
           63.9,
           63.3
          ],
          "sizemode": "area",
          "sizeref": 0.5222222222222223
         },
         "mode": "markers",
         "name": "",
         "showlegend": false,
         "subplot": "mapbox",
         "type": "scattermapbox"
        }
       ],
       "layout": {
        "coloraxis": {
         "colorbar": {
          "title": {
           "text": "Y house price of unit area"
          }
         },
         "colorscale": [
          [
           0,
           "#0d0887"
          ],
          [
           0.1111111111111111,
           "#46039f"
          ],
          [
           0.2222222222222222,
           "#7201a8"
          ],
          [
           0.3333333333333333,
           "#9c179e"
          ],
          [
           0.4444444444444444,
           "#bd3786"
          ],
          [
           0.5555555555555556,
           "#d8576b"
          ],
          [
           0.6666666666666666,
           "#ed7953"
          ],
          [
           0.7777777777777778,
           "#fb9f3a"
          ],
          [
           0.8888888888888888,
           "#fdca26"
          ],
          [
           1,
           "#f0f921"
          ]
         ]
        },
        "height": 600,
        "legend": {
         "itemsizing": "constant",
         "tracegroupgap": 0
        },
        "mapbox": {
         "center": {
          "lat": 24.974743999999998,
          "lon": 121.54184500000001
         },
         "domain": {
          "x": [
           0,
           1
          ],
          "y": [
           0,
           1
          ]
         },
         "style": "open-street-map",
         "zoom": 10
        },
        "template": {
         "data": {
          "bar": [
           {
            "error_x": {
             "color": "#2a3f5f"
            },
            "error_y": {
             "color": "#2a3f5f"
            },
            "marker": {
             "line": {
              "color": "#E5ECF6",
              "width": 0.5
             },
             "pattern": {
              "fillmode": "overlay",
              "size": 10,
              "solidity": 0.2
             }
            },
            "type": "bar"
           }
          ],
          "barpolar": [
           {
            "marker": {
             "line": {
              "color": "#E5ECF6",
              "width": 0.5
             },
             "pattern": {
              "fillmode": "overlay",
              "size": 10,
              "solidity": 0.2
             }
            },
            "type": "barpolar"
           }
          ],
          "carpet": [
           {
            "aaxis": {
             "endlinecolor": "#2a3f5f",
             "gridcolor": "white",
             "linecolor": "white",
             "minorgridcolor": "white",
             "startlinecolor": "#2a3f5f"
            },
            "baxis": {
             "endlinecolor": "#2a3f5f",
             "gridcolor": "white",
             "linecolor": "white",
             "minorgridcolor": "white",
             "startlinecolor": "#2a3f5f"
            },
            "type": "carpet"
           }
          ],
          "choropleth": [
           {
            "colorbar": {
             "outlinewidth": 0,
             "ticks": ""
            },
            "type": "choropleth"
           }
          ],
          "contour": [
           {
            "colorbar": {
             "outlinewidth": 0,
             "ticks": ""
            },
            "colorscale": [
             [
              0,
              "#0d0887"
             ],
             [
              0.1111111111111111,
              "#46039f"
             ],
             [
              0.2222222222222222,
              "#7201a8"
             ],
             [
              0.3333333333333333,
              "#9c179e"
             ],
             [
              0.4444444444444444,
              "#bd3786"
             ],
             [
              0.5555555555555556,
              "#d8576b"
             ],
             [
              0.6666666666666666,
              "#ed7953"
             ],
             [
              0.7777777777777778,
              "#fb9f3a"
             ],
             [
              0.8888888888888888,
              "#fdca26"
             ],
             [
              1,
              "#f0f921"
             ]
            ],
            "type": "contour"
           }
          ],
          "contourcarpet": [
           {
            "colorbar": {
             "outlinewidth": 0,
             "ticks": ""
            },
            "type": "contourcarpet"
           }
          ],
          "heatmap": [
           {
            "colorbar": {
             "outlinewidth": 0,
             "ticks": ""
            },
            "colorscale": [
             [
              0,
              "#0d0887"
             ],
             [
              0.1111111111111111,
              "#46039f"
             ],
             [
              0.2222222222222222,
              "#7201a8"
             ],
             [
              0.3333333333333333,
              "#9c179e"
             ],
             [
              0.4444444444444444,
              "#bd3786"
             ],
             [
              0.5555555555555556,
              "#d8576b"
             ],
             [
              0.6666666666666666,
              "#ed7953"
             ],
             [
              0.7777777777777778,
              "#fb9f3a"
             ],
             [
              0.8888888888888888,
              "#fdca26"
             ],
             [
              1,
              "#f0f921"
             ]
            ],
            "type": "heatmap"
           }
          ],
          "heatmapgl": [
           {
            "colorbar": {
             "outlinewidth": 0,
             "ticks": ""
            },
            "colorscale": [
             [
              0,
              "#0d0887"
             ],
             [
              0.1111111111111111,
              "#46039f"
             ],
             [
              0.2222222222222222,
              "#7201a8"
             ],
             [
              0.3333333333333333,
              "#9c179e"
             ],
             [
              0.4444444444444444,
              "#bd3786"
             ],
             [
              0.5555555555555556,
              "#d8576b"
             ],
             [
              0.6666666666666666,
              "#ed7953"
             ],
             [
              0.7777777777777778,
              "#fb9f3a"
             ],
             [
              0.8888888888888888,
              "#fdca26"
             ],
             [
              1,
              "#f0f921"
             ]
            ],
            "type": "heatmapgl"
           }
          ],
          "histogram": [
           {
            "marker": {
             "pattern": {
              "fillmode": "overlay",
              "size": 10,
              "solidity": 0.2
             }
            },
            "type": "histogram"
           }
          ],
          "histogram2d": [
           {
            "colorbar": {
             "outlinewidth": 0,
             "ticks": ""
            },
            "colorscale": [
             [
              0,
              "#0d0887"
             ],
             [
              0.1111111111111111,
              "#46039f"
             ],
             [
              0.2222222222222222,
              "#7201a8"
             ],
             [
              0.3333333333333333,
              "#9c179e"
             ],
             [
              0.4444444444444444,
              "#bd3786"
             ],
             [
              0.5555555555555556,
              "#d8576b"
             ],
             [
              0.6666666666666666,
              "#ed7953"
             ],
             [
              0.7777777777777778,
              "#fb9f3a"
             ],
             [
              0.8888888888888888,
              "#fdca26"
             ],
             [
              1,
              "#f0f921"
             ]
            ],
            "type": "histogram2d"
           }
          ],
          "histogram2dcontour": [
           {
            "colorbar": {
             "outlinewidth": 0,
             "ticks": ""
            },
            "colorscale": [
             [
              0,
              "#0d0887"
             ],
             [
              0.1111111111111111,
              "#46039f"
             ],
             [
              0.2222222222222222,
              "#7201a8"
             ],
             [
              0.3333333333333333,
              "#9c179e"
             ],
             [
              0.4444444444444444,
              "#bd3786"
             ],
             [
              0.5555555555555556,
              "#d8576b"
             ],
             [
              0.6666666666666666,
              "#ed7953"
             ],
             [
              0.7777777777777778,
              "#fb9f3a"
             ],
             [
              0.8888888888888888,
              "#fdca26"
             ],
             [
              1,
              "#f0f921"
             ]
            ],
            "type": "histogram2dcontour"
           }
          ],
          "mesh3d": [
           {
            "colorbar": {
             "outlinewidth": 0,
             "ticks": ""
            },
            "type": "mesh3d"
           }
          ],
          "parcoords": [
           {
            "line": {
             "colorbar": {
              "outlinewidth": 0,
              "ticks": ""
             }
            },
            "type": "parcoords"
           }
          ],
          "pie": [
           {
            "automargin": true,
            "type": "pie"
           }
          ],
          "scatter": [
           {
            "fillpattern": {
             "fillmode": "overlay",
             "size": 10,
             "solidity": 0.2
            },
            "type": "scatter"
           }
          ],
          "scatter3d": [
           {
            "line": {
             "colorbar": {
              "outlinewidth": 0,
              "ticks": ""
             }
            },
            "marker": {
             "colorbar": {
              "outlinewidth": 0,
              "ticks": ""
             }
            },
            "type": "scatter3d"
           }
          ],
          "scattercarpet": [
           {
            "marker": {
             "colorbar": {
              "outlinewidth": 0,
              "ticks": ""
             }
            },
            "type": "scattercarpet"
           }
          ],
          "scattergeo": [
           {
            "marker": {
             "colorbar": {
              "outlinewidth": 0,
              "ticks": ""
             }
            },
            "type": "scattergeo"
           }
          ],
          "scattergl": [
           {
            "marker": {
             "colorbar": {
              "outlinewidth": 0,
              "ticks": ""
             }
            },
            "type": "scattergl"
           }
          ],
          "scattermapbox": [
           {
            "marker": {
             "colorbar": {
              "outlinewidth": 0,
              "ticks": ""
             }
            },
            "type": "scattermapbox"
           }
          ],
          "scatterpolar": [
           {
            "marker": {
             "colorbar": {
              "outlinewidth": 0,
              "ticks": ""
             }
            },
            "type": "scatterpolar"
           }
          ],
          "scatterpolargl": [
           {
            "marker": {
             "colorbar": {
              "outlinewidth": 0,
              "ticks": ""
             }
            },
            "type": "scatterpolargl"
           }
          ],
          "scatterternary": [
           {
            "marker": {
             "colorbar": {
              "outlinewidth": 0,
              "ticks": ""
             }
            },
            "type": "scatterternary"
           }
          ],
          "surface": [
           {
            "colorbar": {
             "outlinewidth": 0,
             "ticks": ""
            },
            "colorscale": [
             [
              0,
              "#0d0887"
             ],
             [
              0.1111111111111111,
              "#46039f"
             ],
             [
              0.2222222222222222,
              "#7201a8"
             ],
             [
              0.3333333333333333,
              "#9c179e"
             ],
             [
              0.4444444444444444,
              "#bd3786"
             ],
             [
              0.5555555555555556,
              "#d8576b"
             ],
             [
              0.6666666666666666,
              "#ed7953"
             ],
             [
              0.7777777777777778,
              "#fb9f3a"
             ],
             [
              0.8888888888888888,
              "#fdca26"
             ],
             [
              1,
              "#f0f921"
             ]
            ],
            "type": "surface"
           }
          ],
          "table": [
           {
            "cells": {
             "fill": {
              "color": "#EBF0F8"
             },
             "line": {
              "color": "white"
             }
            },
            "header": {
             "fill": {
              "color": "#C8D4E3"
             },
             "line": {
              "color": "white"
             }
            },
            "type": "table"
           }
          ]
         },
         "layout": {
          "annotationdefaults": {
           "arrowcolor": "#2a3f5f",
           "arrowhead": 0,
           "arrowwidth": 1
          },
          "autotypenumbers": "strict",
          "coloraxis": {
           "colorbar": {
            "outlinewidth": 0,
            "ticks": ""
           }
          },
          "colorscale": {
           "diverging": [
            [
             0,
             "#8e0152"
            ],
            [
             0.1,
             "#c51b7d"
            ],
            [
             0.2,
             "#de77ae"
            ],
            [
             0.3,
             "#f1b6da"
            ],
            [
             0.4,
             "#fde0ef"
            ],
            [
             0.5,
             "#f7f7f7"
            ],
            [
             0.6,
             "#e6f5d0"
            ],
            [
             0.7,
             "#b8e186"
            ],
            [
             0.8,
             "#7fbc41"
            ],
            [
             0.9,
             "#4d9221"
            ],
            [
             1,
             "#276419"
            ]
           ],
           "sequential": [
            [
             0,
             "#0d0887"
            ],
            [
             0.1111111111111111,
             "#46039f"
            ],
            [
             0.2222222222222222,
             "#7201a8"
            ],
            [
             0.3333333333333333,
             "#9c179e"
            ],
            [
             0.4444444444444444,
             "#bd3786"
            ],
            [
             0.5555555555555556,
             "#d8576b"
            ],
            [
             0.6666666666666666,
             "#ed7953"
            ],
            [
             0.7777777777777778,
             "#fb9f3a"
            ],
            [
             0.8888888888888888,
             "#fdca26"
            ],
            [
             1,
             "#f0f921"
            ]
           ],
           "sequentialminus": [
            [
             0,
             "#0d0887"
            ],
            [
             0.1111111111111111,
             "#46039f"
            ],
            [
             0.2222222222222222,
             "#7201a8"
            ],
            [
             0.3333333333333333,
             "#9c179e"
            ],
            [
             0.4444444444444444,
             "#bd3786"
            ],
            [
             0.5555555555555556,
             "#d8576b"
            ],
            [
             0.6666666666666666,
             "#ed7953"
            ],
            [
             0.7777777777777778,
             "#fb9f3a"
            ],
            [
             0.8888888888888888,
             "#fdca26"
            ],
            [
             1,
             "#f0f921"
            ]
           ]
          },
          "colorway": [
           "#636efa",
           "#EF553B",
           "#00cc96",
           "#ab63fa",
           "#FFA15A",
           "#19d3f3",
           "#FF6692",
           "#B6E880",
           "#FF97FF",
           "#FECB52"
          ],
          "font": {
           "color": "#2a3f5f"
          },
          "geo": {
           "bgcolor": "white",
           "lakecolor": "white",
           "landcolor": "#E5ECF6",
           "showlakes": true,
           "showland": true,
           "subunitcolor": "white"
          },
          "hoverlabel": {
           "align": "left"
          },
          "hovermode": "closest",
          "mapbox": {
           "style": "light"
          },
          "paper_bgcolor": "white",
          "plot_bgcolor": "#E5ECF6",
          "polar": {
           "angularaxis": {
            "gridcolor": "white",
            "linecolor": "white",
            "ticks": ""
           },
           "bgcolor": "#E5ECF6",
           "radialaxis": {
            "gridcolor": "white",
            "linecolor": "white",
            "ticks": ""
           }
          },
          "scene": {
           "xaxis": {
            "backgroundcolor": "#E5ECF6",
            "gridcolor": "white",
            "gridwidth": 2,
            "linecolor": "white",
            "showbackground": true,
            "ticks": "",
            "zerolinecolor": "white"
           },
           "yaxis": {
            "backgroundcolor": "#E5ECF6",
            "gridcolor": "white",
            "gridwidth": 2,
            "linecolor": "white",
            "showbackground": true,
            "ticks": "",
            "zerolinecolor": "white"
           },
           "zaxis": {
            "backgroundcolor": "#E5ECF6",
            "gridcolor": "white",
            "gridwidth": 2,
            "linecolor": "white",
            "showbackground": true,
            "ticks": "",
            "zerolinecolor": "white"
           }
          },
          "shapedefaults": {
           "line": {
            "color": "#2a3f5f"
           }
          },
          "ternary": {
           "aaxis": {
            "gridcolor": "white",
            "linecolor": "white",
            "ticks": ""
           },
           "baxis": {
            "gridcolor": "white",
            "linecolor": "white",
            "ticks": ""
           },
           "bgcolor": "#E5ECF6",
           "caxis": {
            "gridcolor": "white",
            "linecolor": "white",
            "ticks": ""
           }
          },
          "title": {
           "x": 0.05
          },
          "xaxis": {
           "automargin": true,
           "gridcolor": "white",
           "linecolor": "white",
           "ticks": "",
           "title": {
            "standoff": 15
           },
           "zerolinecolor": "white",
           "zerolinewidth": 2
          },
          "yaxis": {
           "automargin": true,
           "gridcolor": "white",
           "linecolor": "white",
           "ticks": "",
           "title": {
            "standoff": 15
           },
           "zerolinecolor": "white",
           "zerolinewidth": 2
          }
         }
        },
        "title": {
         "text": "Top 10 House Prices by Location"
        },
        "width": 800
       }
      }
     },
     "metadata": {},
     "output_type": "display_data"
    }
   ],
   "source": [
    "fig = px.scatter_mapbox(\n",
    "    df.sort_values(by=\"Y house price of unit area\", ascending=False).head(10),\n",
    "    lat=\"X5 latitude\",\n",
    "    lon=\"X6 longitude\",\n",
    "    size=\"Y house price of unit area\",\n",
    "    color=\"Y house price of unit area\",\n",
    "    hover_name=\"Y house price of unit area\",\n",
    "    title=\"Top 10 House Prices by Location\",\n",
    "    size_max=15,\n",
    "    zoom=10,\n",
    "    width=800,\n",
    "    height=600\n",
    ")\n",
    "fig.update_layout(mapbox_style=\"open-street-map\")\n",
    "fig.show()"
   ]
  },
  {
   "cell_type": "code",
   "execution_count": 10,
   "id": "3bd056ad",
   "metadata": {},
   "outputs": [
    {
     "data": {
      "application/vnd.plotly.v1+json": {
       "config": {
        "plotlyServerURL": "https://plot.ly"
       },
       "data": [
        {
         "alignmentgroup": "True",
         "hovertemplate": "X2 house age=%{x}<br>Y house price of unit area=%{y}<extra></extra>",
         "legendgroup": "",
         "marker": {
          "color": "#636efa",
          "pattern": {
           "shape": ""
          }
         },
         "name": "",
         "offsetgroup": "",
         "orientation": "v",
         "showlegend": false,
         "textposition": "auto",
         "type": "bar",
         "x": [
          32,
          19.5,
          13.3,
          13.3,
          5,
          7.1,
          34.5,
          20.3,
          31.7,
          17.9,
          34.8,
          6.3,
          13,
          20.4,
          13.2,
          35.7,
          0,
          17.7,
          16.9,
          1.5,
          4.5,
          10.5,
          14.7,
          10.1,
          39.6,
          29.3,
          3.1,
          10.4,
          19.2,
          7.1,
          25.9,
          29.6,
          37.9,
          16.5,
          15.4,
          13.9,
          14.7,
          12,
          3.1,
          16.2,
          13.6,
          16.8,
          36.1,
          34.4,
          2.7,
          36.6,
          21.7,
          35.9,
          24.2,
          29.4,
          21.7,
          31.3,
          32.1,
          13.3,
          16.1,
          31.7,
          33.6,
          3.5,
          30.3,
          13.3,
          11,
          5.3,
          17.2,
          2.6,
          17.5,
          40.1,
          1,
          8.5,
          30.4,
          12.5,
          6.6,
          35.5,
          32.5,
          13.8,
          6.8,
          12.3,
          35.9,
          20.5,
          38.2,
          18,
          11.8,
          30.8,
          13.2,
          25.3,
          15.1,
          0,
          1.8,
          16.9,
          8.9,
          23,
          0,
          9.1,
          20.6,
          31.9,
          40.9,
          8,
          6.4,
          28.4,
          16.4,
          6.4,
          17.5,
          12.7,
          1.1,
          0,
          32.7,
          0,
          17.2,
          12.2,
          31.4,
          4,
          8.1,
          33.3,
          9.9,
          14.8,
          30.6,
          20.6,
          30.9,
          13.6,
          25.3,
          16.6,
          13.3,
          13.6,
          31.5,
          0,
          9.9,
          1.1,
          38.6,
          3.8,
          41.3,
          38.5,
          29.6,
          4,
          26.6,
          18,
          33.4,
          18.9,
          11.4,
          13.6,
          10,
          12.9,
          16.2,
          5.1,
          19.8,
          13.6,
          11.9,
          2.1,
          0,
          3.2,
          16.4,
          34.9,
          35.8,
          4.9,
          12,
          6.5,
          16.9,
          13.8,
          30.7,
          16.1,
          11.6,
          15.5,
          3.5,
          19.2,
          16,
          8.5,
          0,
          13.7,
          0,
          28.2,
          27.6,
          8.4,
          24,
          3.6,
          6.6,
          41.3,
          4.3,
          30.2,
          13.9,
          33,
          13.1,
          14,
          26.9,
          11.6,
          13.5,
          17,
          14.1,
          31.4,
          20.9,
          8.9,
          34.8,
          16.3,
          35.3,
          13.2,
          43.8,
          9.7,
          15.2,
          15.2,
          22.8,
          34.4,
          34,
          18.2,
          17.4,
          13.1,
          38.3,
          15.6,
          18,
          12.8,
          22.2,
          38.5,
          11.5,
          34.8,
          5.2,
          0,
          17.6,
          6.2,
          18.1,
          19.2,
          37.8,
          28,
          13.6,
          29.3,
          37.2,
          9,
          30.6,
          9.1,
          34.5,
          1.1,
          16.5,
          32.4,
          11.9,
          31,
          4,
          16.2,
          27.1,
          39.7,
          8,
          12.9,
          3.6,
          13,
          12.8,
          18.1,
          11,
          13.7,
          2,
          32.8,
          4.8,
          7.5,
          16.4,
          21.7,
          19,
          18,
          39.2,
          31.7,
          5.9,
          30.4,
          1.1,
          31.5,
          14.6,
          17.3,
          0,
          17.7,
          17,
          16.2,
          15.9,
          3.9,
          32.6,
          15.7,
          17.8,
          34.7,
          17.2,
          17.6,
          10.8,
          17.7,
          13,
          13.2,
          27.5,
          1.5,
          19.1,
          21.2,
          0,
          2.6,
          2.3,
          4.7,
          2,
          33.5,
          15,
          30.1,
          5.9,
          19.2,
          16.6,
          13.9,
          37.7,
          3.4,
          17.5,
          12.6,
          26.4,
          18.2,
          12.5,
          34.9,
          16.7,
          33.2,
          2.5,
          38,
          16.5,
          38.3,
          20,
          16.2,
          14.4,
          10.3,
          16.4,
          30.3,
          16.4,
          21.3,
          35.4,
          8.3,
          3.7,
          15.6,
          13.3,
          15.6,
          7.1,
          34.6,
          13.5,
          16.9,
          12.9,
          28.6,
          12.4,
          36.6,
          4.1,
          3.5,
          15.9,
          13.6,
          32,
          25.6,
          39.8,
          7.8,
          30,
          27.3,
          5.1,
          31.3,
          31.5,
          1.7,
          33.6,
          13,
          5.7,
          33.5,
          34.6,
          0,
          13.2,
          17.4,
          4.6,
          7.8,
          13.2,
          4,
          18.4,
          4.1,
          12.2,
          3.8,
          10.3,
          0,
          1.1,
          5.6,
          32.9,
          41.4,
          17.1,
          32.3,
          35.3,
          17.3,
          14.2,
          15,
          18.2,
          20.2,
          15.9,
          4.1,
          33.9,
          0,
          5.4,
          21.7,
          14.7,
          3.9,
          37.3,
          0,
          14.1,
          8,
          16.3,
          29.1,
          16.1,
          18.3,
          0,
          16.2,
          10.4,
          40.9,
          32.8,
          6.2,
          42.7,
          16.9,
          32.6,
          21.2,
          37.1,
          13.1,
          14.7,
          12.7,
          26.8,
          7.6,
          12.7,
          30.9,
          16.4,
          23,
          1.9,
          5.2,
          18.5,
          13.7,
          5.6,
          18.8,
          8.1,
          6.5
         ],
         "xaxis": "x",
         "y": [
          37.9,
          42.2,
          47.3,
          54.8,
          43.1,
          32.1,
          40.3,
          46.7,
          18.8,
          22.1,
          41.4,
          58.1,
          39.3,
          23.8,
          34.3,
          50.5,
          70.1,
          37.4,
          42.3,
          47.7,
          29.3,
          51.6,
          24.6,
          47.9,
          38.8,
          27,
          56.2,
          33.6,
          47,
          57.1,
          22.1,
          25,
          34.2,
          49.3,
          55.1,
          27.3,
          22.9,
          25.3,
          47.7,
          46.2,
          15.9,
          18.2,
          34.7,
          34.1,
          53.9,
          38.3,
          42,
          61.5,
          13.4,
          13.2,
          44.2,
          20.7,
          27,
          38.9,
          51.7,
          13.7,
          41.9,
          53.5,
          22.6,
          42.4,
          21.3,
          63.2,
          27.7,
          55,
          25.3,
          44.3,
          50.7,
          56.8,
          36.2,
          42,
          59,
          40.8,
          36.3,
          20,
          54.4,
          29.5,
          36.8,
          25.6,
          29.8,
          26.5,
          40.3,
          36.8,
          48.1,
          17.7,
          43.7,
          50.8,
          27,
          18.3,
          48,
          25.3,
          45.4,
          43.2,
          21.8,
          16.1,
          41,
          51.8,
          59.5,
          34.6,
          51,
          62.2,
          38.2,
          32.9,
          54.4,
          45.7,
          30.5,
          71,
          47.1,
          26.6,
          34.1,
          28.4,
          51.6,
          39.4,
          23.1,
          7.6,
          53.3,
          46.4,
          12.2,
          13,
          30.6,
          59.6,
          31.3,
          48,
          32.5,
          45.5,
          57.4,
          48.6,
          62.9,
          55,
          60.7,
          41,
          37.5,
          30.7,
          37.5,
          39.5,
          42.2,
          20.8,
          46.8,
          47.4,
          43.5,
          42.5,
          51.4,
          28.9,
          37.5,
          40.1,
          28.4,
          45.5,
          52.2,
          43.2,
          45.1,
          39.7,
          48.5,
          44.7,
          28.9,
          40.9,
          20.7,
          15.6,
          18.3,
          35.6,
          39.4,
          37.4,
          57.8,
          39.6,
          11.6,
          55.5,
          55.2,
          30.6,
          73.6,
          43.4,
          37.4,
          23.5,
          14.4,
          58.8,
          58.1,
          35.1,
          45.2,
          36.5,
          19.2,
          42,
          36.7,
          42.6,
          15.5,
          55.9,
          23.6,
          18.8,
          21.8,
          21.5,
          25.7,
          22,
          44.3,
          20.5,
          42.3,
          37.8,
          42.7,
          49.3,
          29.3,
          34.6,
          36.6,
          48.2,
          39.1,
          31.6,
          25.5,
          45.9,
          31.5,
          46.1,
          26.6,
          21.4,
          44,
          34.2,
          26.2,
          40.9,
          52.2,
          43.5,
          31.1,
          58,
          20.9,
          48.1,
          39.7,
          40.8,
          43.8,
          40.2,
          78.3,
          38.5,
          48.5,
          42.3,
          46,
          49,
          12.8,
          40.2,
          46.6,
          19,
          33.4,
          14.7,
          17.4,
          32.4,
          23.9,
          39.3,
          61.9,
          39,
          40.6,
          29.7,
          28.8,
          41.4,
          33.4,
          48.2,
          21.7,
          40.8,
          40.6,
          23.1,
          22.3,
          15,
          30,
          13.8,
          52.7,
          25.9,
          51.8,
          17.4,
          26.5,
          43.9,
          63.3,
          28.8,
          30.7,
          24.4,
          53,
          31.7,
          40.6,
          38.1,
          23.7,
          41.1,
          40.1,
          23,
          117.5,
          26.5,
          40.5,
          29.3,
          41,
          49.7,
          34,
          27.7,
          44,
          31.1,
          45.4,
          44.8,
          25.6,
          23.5,
          34.4,
          55.3,
          56.3,
          32.9,
          51,
          44.5,
          37,
          54.4,
          24.5,
          42.5,
          38.1,
          21.8,
          34.1,
          28.5,
          16.7,
          46.1,
          36.9,
          35.7,
          23.2,
          38.4,
          29.4,
          55,
          50.2,
          24.7,
          53,
          19.1,
          24.7,
          42.2,
          78,
          42.8,
          41.6,
          27.3,
          42,
          37.5,
          49.8,
          26.9,
          18.6,
          37.7,
          33.1,
          42.5,
          31.3,
          38.1,
          62.1,
          36.7,
          23.6,
          19.2,
          12.8,
          15.6,
          39.6,
          38.4,
          22.8,
          36.5,
          35.6,
          30.9,
          36.3,
          50.4,
          42.9,
          37,
          53.5,
          46.6,
          41.2,
          37.9,
          30.8,
          11.2,
          53.7,
          47,
          42.3,
          28.6,
          25.7,
          31.3,
          30.1,
          60.7,
          45.3,
          44.9,
          45.1,
          24.7,
          47.1,
          63.3,
          40,
          48,
          33.1,
          29.5,
          24.8,
          20.9,
          43.1,
          22.8,
          42.1,
          51.7,
          41.5,
          52.2,
          49.5,
          23.8,
          30.5,
          56.8,
          37.4,
          69.7,
          53.3,
          47.3,
          29.3,
          40.3,
          12.9,
          46.6,
          55.3,
          25.6,
          27.3,
          67.7,
          38.6,
          31.3,
          35.3,
          40.3,
          24.7,
          42.5,
          31.9,
          32.2,
          23,
          37.3,
          35.5,
          27.7,
          28.5,
          39.7,
          41.2,
          37.2,
          40.5,
          22.3,
          28.1,
          15.4,
          50,
          40.6,
          52.5,
          63.9
         ],
         "yaxis": "y"
        }
       ],
       "layout": {
        "barmode": "relative",
        "legend": {
         "tracegroupgap": 0
        },
        "template": {
         "data": {
          "bar": [
           {
            "error_x": {
             "color": "#2a3f5f"
            },
            "error_y": {
             "color": "#2a3f5f"
            },
            "marker": {
             "line": {
              "color": "#E5ECF6",
              "width": 0.5
             },
             "pattern": {
              "fillmode": "overlay",
              "size": 10,
              "solidity": 0.2
             }
            },
            "type": "bar"
           }
          ],
          "barpolar": [
           {
            "marker": {
             "line": {
              "color": "#E5ECF6",
              "width": 0.5
             },
             "pattern": {
              "fillmode": "overlay",
              "size": 10,
              "solidity": 0.2
             }
            },
            "type": "barpolar"
           }
          ],
          "carpet": [
           {
            "aaxis": {
             "endlinecolor": "#2a3f5f",
             "gridcolor": "white",
             "linecolor": "white",
             "minorgridcolor": "white",
             "startlinecolor": "#2a3f5f"
            },
            "baxis": {
             "endlinecolor": "#2a3f5f",
             "gridcolor": "white",
             "linecolor": "white",
             "minorgridcolor": "white",
             "startlinecolor": "#2a3f5f"
            },
            "type": "carpet"
           }
          ],
          "choropleth": [
           {
            "colorbar": {
             "outlinewidth": 0,
             "ticks": ""
            },
            "type": "choropleth"
           }
          ],
          "contour": [
           {
            "colorbar": {
             "outlinewidth": 0,
             "ticks": ""
            },
            "colorscale": [
             [
              0,
              "#0d0887"
             ],
             [
              0.1111111111111111,
              "#46039f"
             ],
             [
              0.2222222222222222,
              "#7201a8"
             ],
             [
              0.3333333333333333,
              "#9c179e"
             ],
             [
              0.4444444444444444,
              "#bd3786"
             ],
             [
              0.5555555555555556,
              "#d8576b"
             ],
             [
              0.6666666666666666,
              "#ed7953"
             ],
             [
              0.7777777777777778,
              "#fb9f3a"
             ],
             [
              0.8888888888888888,
              "#fdca26"
             ],
             [
              1,
              "#f0f921"
             ]
            ],
            "type": "contour"
           }
          ],
          "contourcarpet": [
           {
            "colorbar": {
             "outlinewidth": 0,
             "ticks": ""
            },
            "type": "contourcarpet"
           }
          ],
          "heatmap": [
           {
            "colorbar": {
             "outlinewidth": 0,
             "ticks": ""
            },
            "colorscale": [
             [
              0,
              "#0d0887"
             ],
             [
              0.1111111111111111,
              "#46039f"
             ],
             [
              0.2222222222222222,
              "#7201a8"
             ],
             [
              0.3333333333333333,
              "#9c179e"
             ],
             [
              0.4444444444444444,
              "#bd3786"
             ],
             [
              0.5555555555555556,
              "#d8576b"
             ],
             [
              0.6666666666666666,
              "#ed7953"
             ],
             [
              0.7777777777777778,
              "#fb9f3a"
             ],
             [
              0.8888888888888888,
              "#fdca26"
             ],
             [
              1,
              "#f0f921"
             ]
            ],
            "type": "heatmap"
           }
          ],
          "heatmapgl": [
           {
            "colorbar": {
             "outlinewidth": 0,
             "ticks": ""
            },
            "colorscale": [
             [
              0,
              "#0d0887"
             ],
             [
              0.1111111111111111,
              "#46039f"
             ],
             [
              0.2222222222222222,
              "#7201a8"
             ],
             [
              0.3333333333333333,
              "#9c179e"
             ],
             [
              0.4444444444444444,
              "#bd3786"
             ],
             [
              0.5555555555555556,
              "#d8576b"
             ],
             [
              0.6666666666666666,
              "#ed7953"
             ],
             [
              0.7777777777777778,
              "#fb9f3a"
             ],
             [
              0.8888888888888888,
              "#fdca26"
             ],
             [
              1,
              "#f0f921"
             ]
            ],
            "type": "heatmapgl"
           }
          ],
          "histogram": [
           {
            "marker": {
             "pattern": {
              "fillmode": "overlay",
              "size": 10,
              "solidity": 0.2
             }
            },
            "type": "histogram"
           }
          ],
          "histogram2d": [
           {
            "colorbar": {
             "outlinewidth": 0,
             "ticks": ""
            },
            "colorscale": [
             [
              0,
              "#0d0887"
             ],
             [
              0.1111111111111111,
              "#46039f"
             ],
             [
              0.2222222222222222,
              "#7201a8"
             ],
             [
              0.3333333333333333,
              "#9c179e"
             ],
             [
              0.4444444444444444,
              "#bd3786"
             ],
             [
              0.5555555555555556,
              "#d8576b"
             ],
             [
              0.6666666666666666,
              "#ed7953"
             ],
             [
              0.7777777777777778,
              "#fb9f3a"
             ],
             [
              0.8888888888888888,
              "#fdca26"
             ],
             [
              1,
              "#f0f921"
             ]
            ],
            "type": "histogram2d"
           }
          ],
          "histogram2dcontour": [
           {
            "colorbar": {
             "outlinewidth": 0,
             "ticks": ""
            },
            "colorscale": [
             [
              0,
              "#0d0887"
             ],
             [
              0.1111111111111111,
              "#46039f"
             ],
             [
              0.2222222222222222,
              "#7201a8"
             ],
             [
              0.3333333333333333,
              "#9c179e"
             ],
             [
              0.4444444444444444,
              "#bd3786"
             ],
             [
              0.5555555555555556,
              "#d8576b"
             ],
             [
              0.6666666666666666,
              "#ed7953"
             ],
             [
              0.7777777777777778,
              "#fb9f3a"
             ],
             [
              0.8888888888888888,
              "#fdca26"
             ],
             [
              1,
              "#f0f921"
             ]
            ],
            "type": "histogram2dcontour"
           }
          ],
          "mesh3d": [
           {
            "colorbar": {
             "outlinewidth": 0,
             "ticks": ""
            },
            "type": "mesh3d"
           }
          ],
          "parcoords": [
           {
            "line": {
             "colorbar": {
              "outlinewidth": 0,
              "ticks": ""
             }
            },
            "type": "parcoords"
           }
          ],
          "pie": [
           {
            "automargin": true,
            "type": "pie"
           }
          ],
          "scatter": [
           {
            "fillpattern": {
             "fillmode": "overlay",
             "size": 10,
             "solidity": 0.2
            },
            "type": "scatter"
           }
          ],
          "scatter3d": [
           {
            "line": {
             "colorbar": {
              "outlinewidth": 0,
              "ticks": ""
             }
            },
            "marker": {
             "colorbar": {
              "outlinewidth": 0,
              "ticks": ""
             }
            },
            "type": "scatter3d"
           }
          ],
          "scattercarpet": [
           {
            "marker": {
             "colorbar": {
              "outlinewidth": 0,
              "ticks": ""
             }
            },
            "type": "scattercarpet"
           }
          ],
          "scattergeo": [
           {
            "marker": {
             "colorbar": {
              "outlinewidth": 0,
              "ticks": ""
             }
            },
            "type": "scattergeo"
           }
          ],
          "scattergl": [
           {
            "marker": {
             "colorbar": {
              "outlinewidth": 0,
              "ticks": ""
             }
            },
            "type": "scattergl"
           }
          ],
          "scattermapbox": [
           {
            "marker": {
             "colorbar": {
              "outlinewidth": 0,
              "ticks": ""
             }
            },
            "type": "scattermapbox"
           }
          ],
          "scatterpolar": [
           {
            "marker": {
             "colorbar": {
              "outlinewidth": 0,
              "ticks": ""
             }
            },
            "type": "scatterpolar"
           }
          ],
          "scatterpolargl": [
           {
            "marker": {
             "colorbar": {
              "outlinewidth": 0,
              "ticks": ""
             }
            },
            "type": "scatterpolargl"
           }
          ],
          "scatterternary": [
           {
            "marker": {
             "colorbar": {
              "outlinewidth": 0,
              "ticks": ""
             }
            },
            "type": "scatterternary"
           }
          ],
          "surface": [
           {
            "colorbar": {
             "outlinewidth": 0,
             "ticks": ""
            },
            "colorscale": [
             [
              0,
              "#0d0887"
             ],
             [
              0.1111111111111111,
              "#46039f"
             ],
             [
              0.2222222222222222,
              "#7201a8"
             ],
             [
              0.3333333333333333,
              "#9c179e"
             ],
             [
              0.4444444444444444,
              "#bd3786"
             ],
             [
              0.5555555555555556,
              "#d8576b"
             ],
             [
              0.6666666666666666,
              "#ed7953"
             ],
             [
              0.7777777777777778,
              "#fb9f3a"
             ],
             [
              0.8888888888888888,
              "#fdca26"
             ],
             [
              1,
              "#f0f921"
             ]
            ],
            "type": "surface"
           }
          ],
          "table": [
           {
            "cells": {
             "fill": {
              "color": "#EBF0F8"
             },
             "line": {
              "color": "white"
             }
            },
            "header": {
             "fill": {
              "color": "#C8D4E3"
             },
             "line": {
              "color": "white"
             }
            },
            "type": "table"
           }
          ]
         },
         "layout": {
          "annotationdefaults": {
           "arrowcolor": "#2a3f5f",
           "arrowhead": 0,
           "arrowwidth": 1
          },
          "autotypenumbers": "strict",
          "coloraxis": {
           "colorbar": {
            "outlinewidth": 0,
            "ticks": ""
           }
          },
          "colorscale": {
           "diverging": [
            [
             0,
             "#8e0152"
            ],
            [
             0.1,
             "#c51b7d"
            ],
            [
             0.2,
             "#de77ae"
            ],
            [
             0.3,
             "#f1b6da"
            ],
            [
             0.4,
             "#fde0ef"
            ],
            [
             0.5,
             "#f7f7f7"
            ],
            [
             0.6,
             "#e6f5d0"
            ],
            [
             0.7,
             "#b8e186"
            ],
            [
             0.8,
             "#7fbc41"
            ],
            [
             0.9,
             "#4d9221"
            ],
            [
             1,
             "#276419"
            ]
           ],
           "sequential": [
            [
             0,
             "#0d0887"
            ],
            [
             0.1111111111111111,
             "#46039f"
            ],
            [
             0.2222222222222222,
             "#7201a8"
            ],
            [
             0.3333333333333333,
             "#9c179e"
            ],
            [
             0.4444444444444444,
             "#bd3786"
            ],
            [
             0.5555555555555556,
             "#d8576b"
            ],
            [
             0.6666666666666666,
             "#ed7953"
            ],
            [
             0.7777777777777778,
             "#fb9f3a"
            ],
            [
             0.8888888888888888,
             "#fdca26"
            ],
            [
             1,
             "#f0f921"
            ]
           ],
           "sequentialminus": [
            [
             0,
             "#0d0887"
            ],
            [
             0.1111111111111111,
             "#46039f"
            ],
            [
             0.2222222222222222,
             "#7201a8"
            ],
            [
             0.3333333333333333,
             "#9c179e"
            ],
            [
             0.4444444444444444,
             "#bd3786"
            ],
            [
             0.5555555555555556,
             "#d8576b"
            ],
            [
             0.6666666666666666,
             "#ed7953"
            ],
            [
             0.7777777777777778,
             "#fb9f3a"
            ],
            [
             0.8888888888888888,
             "#fdca26"
            ],
            [
             1,
             "#f0f921"
            ]
           ]
          },
          "colorway": [
           "#636efa",
           "#EF553B",
           "#00cc96",
           "#ab63fa",
           "#FFA15A",
           "#19d3f3",
           "#FF6692",
           "#B6E880",
           "#FF97FF",
           "#FECB52"
          ],
          "font": {
           "color": "#2a3f5f"
          },
          "geo": {
           "bgcolor": "white",
           "lakecolor": "white",
           "landcolor": "#E5ECF6",
           "showlakes": true,
           "showland": true,
           "subunitcolor": "white"
          },
          "hoverlabel": {
           "align": "left"
          },
          "hovermode": "closest",
          "mapbox": {
           "style": "light"
          },
          "paper_bgcolor": "white",
          "plot_bgcolor": "#E5ECF6",
          "polar": {
           "angularaxis": {
            "gridcolor": "white",
            "linecolor": "white",
            "ticks": ""
           },
           "bgcolor": "#E5ECF6",
           "radialaxis": {
            "gridcolor": "white",
            "linecolor": "white",
            "ticks": ""
           }
          },
          "scene": {
           "xaxis": {
            "backgroundcolor": "#E5ECF6",
            "gridcolor": "white",
            "gridwidth": 2,
            "linecolor": "white",
            "showbackground": true,
            "ticks": "",
            "zerolinecolor": "white"
           },
           "yaxis": {
            "backgroundcolor": "#E5ECF6",
            "gridcolor": "white",
            "gridwidth": 2,
            "linecolor": "white",
            "showbackground": true,
            "ticks": "",
            "zerolinecolor": "white"
           },
           "zaxis": {
            "backgroundcolor": "#E5ECF6",
            "gridcolor": "white",
            "gridwidth": 2,
            "linecolor": "white",
            "showbackground": true,
            "ticks": "",
            "zerolinecolor": "white"
           }
          },
          "shapedefaults": {
           "line": {
            "color": "#2a3f5f"
           }
          },
          "ternary": {
           "aaxis": {
            "gridcolor": "white",
            "linecolor": "white",
            "ticks": ""
           },
           "baxis": {
            "gridcolor": "white",
            "linecolor": "white",
            "ticks": ""
           },
           "bgcolor": "#E5ECF6",
           "caxis": {
            "gridcolor": "white",
            "linecolor": "white",
            "ticks": ""
           }
          },
          "title": {
           "x": 0.05
          },
          "xaxis": {
           "automargin": true,
           "gridcolor": "white",
           "linecolor": "white",
           "ticks": "",
           "title": {
            "standoff": 15
           },
           "zerolinecolor": "white",
           "zerolinewidth": 2
          },
          "yaxis": {
           "automargin": true,
           "gridcolor": "white",
           "linecolor": "white",
           "ticks": "",
           "title": {
            "standoff": 15
           },
           "zerolinecolor": "white",
           "zerolinewidth": 2
          }
         }
        },
        "title": {
         "text": "INTERACTIVE PLOT"
        },
        "xaxis": {
         "anchor": "y",
         "categoryarray": [
          43.8,
          42.7,
          41.4,
          41.3,
          40.9,
          40.1,
          39.8,
          39.7,
          39.6,
          39.2,
          38.6,
          38.5,
          38.3,
          38.2,
          38,
          37.9,
          37.8,
          37.7,
          37.3,
          37.2,
          37.1,
          36.6,
          36.1,
          35.9,
          35.8,
          35.7,
          35.5,
          35.4,
          35.3,
          34.9,
          34.8,
          34.7,
          34.6,
          34.5,
          34.4,
          34,
          33.9,
          33.6,
          33.5,
          33.4,
          33.3,
          33.2,
          33,
          32.9,
          32.8,
          32.7,
          32.6,
          32.5,
          32.4,
          32.3,
          32.1,
          32,
          31.9,
          31.7,
          31.5,
          31.4,
          31.3,
          31,
          30.9,
          30.8,
          30.7,
          30.6,
          30.4,
          30.3,
          30.2,
          30.1,
          30,
          29.6,
          29.4,
          29.3,
          29.1,
          28.6,
          28.4,
          28.2,
          28,
          27.6,
          27.5,
          27.3,
          27.1,
          26.9,
          26.8,
          26.6,
          26.4,
          25.9,
          25.6,
          25.3,
          24.2,
          24,
          23,
          22.8,
          22.2,
          21.7,
          21.3,
          21.2,
          20.9,
          20.6,
          20.5,
          20.4,
          20.3,
          20.2,
          20,
          19.8,
          19.5,
          19.2,
          19.1,
          19,
          18.9,
          18.8,
          18.5,
          18.4,
          18.3,
          18.2,
          18.1,
          18,
          17.9,
          17.8,
          17.7,
          17.6,
          17.5,
          17.4,
          17.3,
          17.2,
          17.1,
          17,
          16.9,
          16.8,
          16.7,
          16.6,
          16.5,
          16.4,
          16.3,
          16.2,
          16.1,
          16,
          15.9,
          15.7,
          15.6,
          15.5,
          15.4,
          15.2,
          15.1,
          15,
          14.8,
          14.7,
          14.6,
          14.4,
          14.2,
          14.1,
          14,
          13.9,
          13.8,
          13.7,
          13.6,
          13.5,
          13.3,
          13.2,
          13.1,
          13,
          12.9,
          12.8,
          12.7,
          12.6,
          12.5,
          12.4,
          12.3,
          12.2,
          12,
          11.9,
          11.8,
          11.6,
          11.5,
          11.4,
          11,
          10.8,
          10.5,
          10.4,
          10.3,
          10.1,
          10,
          9.9,
          9.7,
          9.1,
          9,
          8.9,
          8.5,
          8.4,
          8.3,
          8.1,
          8,
          7.8,
          7.6,
          7.5,
          7.1,
          6.8,
          6.6,
          6.5,
          6.4,
          6.3,
          6.2,
          5.9,
          5.7,
          5.6,
          5.4,
          5.3,
          5.2,
          5.1,
          5,
          4.9,
          4.8,
          4.7,
          4.6,
          4.5,
          4.3,
          4.1,
          4,
          3.9,
          3.8,
          3.7,
          3.6,
          3.5,
          3.4,
          3.2,
          3.1,
          2.7,
          2.6,
          2.5,
          2.3,
          2.1,
          2,
          1.9,
          1.8,
          1.7,
          1.5,
          1.1,
          1,
          0
         ],
         "categoryorder": "array",
         "domain": [
          0,
          1
         ],
         "title": {
          "text": "X2 house age"
         }
        },
        "yaxis": {
         "anchor": "x",
         "domain": [
          0,
          1
         ],
         "title": {
          "text": "Y house price of unit area"
         }
        }
       }
      }
     },
     "metadata": {},
     "output_type": "display_data"
    }
   ],
   "source": [
    "fig = px.bar(df, x=\"X2 house age\", y=\"Y house price of unit area\", title=\"INTERACTIVE PLOT\", category_orders={\"X2 house age\": df[\"X2 house age\"].sort_values(ascending=False).unique()})\n",
    "fig.show()"
   ]
  },
  {
   "cell_type": "code",
   "execution_count": 11,
   "id": "a333621f",
   "metadata": {},
   "outputs": [],
   "source": [
    "cor = df.corr(). drop(columns=\"Y house price of unit area\", inplace=False)"
   ]
  },
  {
   "cell_type": "code",
   "execution_count": null,
   "id": "ab19b6e0",
   "metadata": {},
   "outputs": [],
   "source": []
  },
  {
   "cell_type": "code",
   "execution_count": 12,
   "id": "e6720e30",
   "metadata": {},
   "outputs": [
    {
     "data": {
      "application/vnd.microsoft.datawrangler.viewer.v0+json": {
       "columns": [
        {
         "name": "index",
         "rawType": "object",
         "type": "string"
        },
        {
         "name": "X2 house age",
         "rawType": "float64",
         "type": "float"
        },
        {
         "name": "X3 distance to the nearest MRT station",
         "rawType": "float64",
         "type": "float"
        },
        {
         "name": "X4 number of convenience stores",
         "rawType": "float64",
         "type": "float"
        },
        {
         "name": "X5 latitude",
         "rawType": "float64",
         "type": "float"
        },
        {
         "name": "X6 longitude",
         "rawType": "float64",
         "type": "float"
        }
       ],
       "conversionMethod": "pd.DataFrame",
       "ref": "592451e4-c19a-4092-b230-af192bc775b8",
       "rows": [
        [
         "X2 house age",
         "1.0",
         "0.025622047362740975",
         "0.04959251292396381",
         "0.054419901960111754",
         "-0.048520053385389686"
        ],
        [
         "X3 distance to the nearest MRT station",
         "0.025622047362740975",
         "1.0",
         "-0.6025191447226251",
         "-0.5910665729874878",
         "-0.8063167695693654"
        ],
        [
         "X4 number of convenience stores",
         "0.04959251292396381",
         "-0.6025191447226251",
         "1.0",
         "0.4441433056524694",
         "0.4490990073533303"
        ],
        [
         "X5 latitude",
         "0.054419901960111754",
         "-0.5910665729874878",
         "0.4441433056524694",
         "1.0",
         "0.4129239447594798"
        ],
        [
         "X6 longitude",
         "-0.048520053385389686",
         "-0.8063167695693654",
         "0.4490990073533303",
         "0.4129239447594798",
         "1.0"
        ],
        [
         "Y house price of unit area",
         "-0.21056704627721676",
         "-0.6736128553689182",
         "0.5710049111111479",
         "0.5463066525036089",
         "0.5232865070288262"
        ]
       ],
       "shape": {
        "columns": 5,
        "rows": 6
       }
      },
      "text/html": [
       "<div>\n",
       "<style scoped>\n",
       "    .dataframe tbody tr th:only-of-type {\n",
       "        vertical-align: middle;\n",
       "    }\n",
       "\n",
       "    .dataframe tbody tr th {\n",
       "        vertical-align: top;\n",
       "    }\n",
       "\n",
       "    .dataframe thead th {\n",
       "        text-align: right;\n",
       "    }\n",
       "</style>\n",
       "<table border=\"1\" class=\"dataframe\">\n",
       "  <thead>\n",
       "    <tr style=\"text-align: right;\">\n",
       "      <th></th>\n",
       "      <th>X2 house age</th>\n",
       "      <th>X3 distance to the nearest MRT station</th>\n",
       "      <th>X4 number of convenience stores</th>\n",
       "      <th>X5 latitude</th>\n",
       "      <th>X6 longitude</th>\n",
       "    </tr>\n",
       "  </thead>\n",
       "  <tbody>\n",
       "    <tr>\n",
       "      <th>X2 house age</th>\n",
       "      <td>1.000000</td>\n",
       "      <td>0.025622</td>\n",
       "      <td>0.049593</td>\n",
       "      <td>0.054420</td>\n",
       "      <td>-0.048520</td>\n",
       "    </tr>\n",
       "    <tr>\n",
       "      <th>X3 distance to the nearest MRT station</th>\n",
       "      <td>0.025622</td>\n",
       "      <td>1.000000</td>\n",
       "      <td>-0.602519</td>\n",
       "      <td>-0.591067</td>\n",
       "      <td>-0.806317</td>\n",
       "    </tr>\n",
       "    <tr>\n",
       "      <th>X4 number of convenience stores</th>\n",
       "      <td>0.049593</td>\n",
       "      <td>-0.602519</td>\n",
       "      <td>1.000000</td>\n",
       "      <td>0.444143</td>\n",
       "      <td>0.449099</td>\n",
       "    </tr>\n",
       "    <tr>\n",
       "      <th>X5 latitude</th>\n",
       "      <td>0.054420</td>\n",
       "      <td>-0.591067</td>\n",
       "      <td>0.444143</td>\n",
       "      <td>1.000000</td>\n",
       "      <td>0.412924</td>\n",
       "    </tr>\n",
       "    <tr>\n",
       "      <th>X6 longitude</th>\n",
       "      <td>-0.048520</td>\n",
       "      <td>-0.806317</td>\n",
       "      <td>0.449099</td>\n",
       "      <td>0.412924</td>\n",
       "      <td>1.000000</td>\n",
       "    </tr>\n",
       "    <tr>\n",
       "      <th>Y house price of unit area</th>\n",
       "      <td>-0.210567</td>\n",
       "      <td>-0.673613</td>\n",
       "      <td>0.571005</td>\n",
       "      <td>0.546307</td>\n",
       "      <td>0.523287</td>\n",
       "    </tr>\n",
       "  </tbody>\n",
       "</table>\n",
       "</div>"
      ],
      "text/plain": [
       "                                        X2 house age  \\\n",
       "X2 house age                                1.000000   \n",
       "X3 distance to the nearest MRT station      0.025622   \n",
       "X4 number of convenience stores             0.049593   \n",
       "X5 latitude                                 0.054420   \n",
       "X6 longitude                               -0.048520   \n",
       "Y house price of unit area                 -0.210567   \n",
       "\n",
       "                                        X3 distance to the nearest MRT station  \\\n",
       "X2 house age                                                          0.025622   \n",
       "X3 distance to the nearest MRT station                                1.000000   \n",
       "X4 number of convenience stores                                      -0.602519   \n",
       "X5 latitude                                                          -0.591067   \n",
       "X6 longitude                                                         -0.806317   \n",
       "Y house price of unit area                                           -0.673613   \n",
       "\n",
       "                                        X4 number of convenience stores  \\\n",
       "X2 house age                                                   0.049593   \n",
       "X3 distance to the nearest MRT station                        -0.602519   \n",
       "X4 number of convenience stores                                1.000000   \n",
       "X5 latitude                                                    0.444143   \n",
       "X6 longitude                                                   0.449099   \n",
       "Y house price of unit area                                     0.571005   \n",
       "\n",
       "                                        X5 latitude  X6 longitude  \n",
       "X2 house age                               0.054420     -0.048520  \n",
       "X3 distance to the nearest MRT station    -0.591067     -0.806317  \n",
       "X4 number of convenience stores            0.444143      0.449099  \n",
       "X5 latitude                                1.000000      0.412924  \n",
       "X6 longitude                               0.412924      1.000000  \n",
       "Y house price of unit area                 0.546307      0.523287  "
      ]
     },
     "execution_count": 12,
     "metadata": {},
     "output_type": "execute_result"
    }
   ],
   "source": [
    "cor"
   ]
  },
  {
   "cell_type": "markdown",
   "id": "ee051770",
   "metadata": {},
   "source": [
    "# EXPLORATIVE DATA ANALYSIS"
   ]
  },
  {
   "cell_type": "code",
   "execution_count": 13,
   "id": "447e74a9",
   "metadata": {},
   "outputs": [
    {
     "data": {
      "text/plain": [
       "Text(0.5, 1.0, 'Correlation Heatmap')"
      ]
     },
     "execution_count": 13,
     "metadata": {},
     "output_type": "execute_result"
    },
    {
     "data": {
      "image/png": "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",
      "text/plain": [
       "<Figure size 640x480 with 2 Axes>"
      ]
     },
     "metadata": {},
     "output_type": "display_data"
    }
   ],
   "source": [
    "sns.heatmap(cor, annot=True, cmap=\"coolwarm\", center=0)\n",
    "plt.title(\"Correlation Heatmap\")"
   ]
  },
  {
   "cell_type": "code",
   "execution_count": 14,
   "id": "00d76870",
   "metadata": {},
   "outputs": [
    {
     "data": {
      "image/png": "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",
      "text/plain": [
       "<Figure size 640x480 with 1 Axes>"
      ]
     },
     "metadata": {},
     "output_type": "display_data"
    }
   ],
   "source": [
    "plt.hist(df[\"Y house price of unit area\"], bins=30, color=\"green\", alpha=0.7)\n",
    "plt.xlabel(\"House Price\")\n",
    "plt.ylabel(\"Frequency\")\n",
    "plt.title(\"Distribution of House Prices\")\n",
    "plt.show()"
   ]
  },
  {
   "cell_type": "code",
   "execution_count": 15,
   "id": "93ce0be4",
   "metadata": {},
   "outputs": [
    {
     "data": {
      "image/png": "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",
      "text/plain": [
       "<Figure size 640x480 with 1 Axes>"
      ]
     },
     "metadata": {},
     "output_type": "display_data"
    }
   ],
   "source": [
    "plt.scatter(df[\"X2 house age\"], df[\"Y house price of unit area\"], alpha=0.5)\n",
    "plt.xlabel(\"House Age\")\n",
    "plt.ylabel(\"House Price\")\n",
    "plt.title(\"House Prices Over \"\"House Age\");"
   ]
  },
  {
   "cell_type": "code",
   "execution_count": 16,
   "id": "a3b4fd64",
   "metadata": {},
   "outputs": [
    {
     "data": {
      "application/vnd.plotly.v1+json": {
       "config": {
        "plotlyServerURL": "https://plot.ly"
       },
       "data": [
        {
         "hovertemplate": "<b>%{hovertext}</b><br><br>X5 latitude=%{lat}<br>X6 longitude=%{lon}<br>Y house price of unit area=%{marker.color}<extra></extra>",
         "hovertext": [
          37.9,
          42.2,
          47.3,
          54.8,
          43.1,
          32.1,
          40.3,
          46.7,
          18.8,
          22.1,
          41.4,
          58.1,
          39.3,
          23.8,
          34.3,
          50.5,
          70.1,
          37.4,
          42.3,
          47.7,
          29.3,
          51.6,
          24.6,
          47.9,
          38.8,
          27,
          56.2,
          33.6,
          47,
          57.1,
          22.1,
          25,
          34.2,
          49.3,
          55.1,
          27.3,
          22.9,
          25.3,
          47.7,
          46.2,
          15.9,
          18.2,
          34.7,
          34.1,
          53.9,
          38.3,
          42,
          61.5,
          13.4,
          13.2,
          44.2,
          20.7,
          27,
          38.9,
          51.7,
          13.7,
          41.9,
          53.5,
          22.6,
          42.4,
          21.3,
          63.2,
          27.7,
          55,
          25.3,
          44.3,
          50.7,
          56.8,
          36.2,
          42,
          59,
          40.8,
          36.3,
          20,
          54.4,
          29.5,
          36.8,
          25.6,
          29.8,
          26.5,
          40.3,
          36.8,
          48.1,
          17.7,
          43.7,
          50.8,
          27,
          18.3,
          48,
          25.3,
          45.4,
          43.2,
          21.8,
          16.1,
          41,
          51.8,
          59.5,
          34.6,
          51,
          62.2,
          38.2,
          32.9,
          54.4,
          45.7,
          30.5,
          71,
          47.1,
          26.6,
          34.1,
          28.4,
          51.6,
          39.4,
          23.1,
          7.6,
          53.3,
          46.4,
          12.2,
          13,
          30.6,
          59.6,
          31.3,
          48,
          32.5,
          45.5,
          57.4,
          48.6,
          62.9,
          55,
          60.7,
          41,
          37.5,
          30.7,
          37.5,
          39.5,
          42.2,
          20.8,
          46.8,
          47.4,
          43.5,
          42.5,
          51.4,
          28.9,
          37.5,
          40.1,
          28.4,
          45.5,
          52.2,
          43.2,
          45.1,
          39.7,
          48.5,
          44.7,
          28.9,
          40.9,
          20.7,
          15.6,
          18.3,
          35.6,
          39.4,
          37.4,
          57.8,
          39.6,
          11.6,
          55.5,
          55.2,
          30.6,
          73.6,
          43.4,
          37.4,
          23.5,
          14.4,
          58.8,
          58.1,
          35.1,
          45.2,
          36.5,
          19.2,
          42,
          36.7,
          42.6,
          15.5,
          55.9,
          23.6,
          18.8,
          21.8,
          21.5,
          25.7,
          22,
          44.3,
          20.5,
          42.3,
          37.8,
          42.7,
          49.3,
          29.3,
          34.6,
          36.6,
          48.2,
          39.1,
          31.6,
          25.5,
          45.9,
          31.5,
          46.1,
          26.6,
          21.4,
          44,
          34.2,
          26.2,
          40.9,
          52.2,
          43.5,
          31.1,
          58,
          20.9,
          48.1,
          39.7,
          40.8,
          43.8,
          40.2,
          78.3,
          38.5,
          48.5,
          42.3,
          46,
          49,
          12.8,
          40.2,
          46.6,
          19,
          33.4,
          14.7,
          17.4,
          32.4,
          23.9,
          39.3,
          61.9,
          39,
          40.6,
          29.7,
          28.8,
          41.4,
          33.4,
          48.2,
          21.7,
          40.8,
          40.6,
          23.1,
          22.3,
          15,
          30,
          13.8,
          52.7,
          25.9,
          51.8,
          17.4,
          26.5,
          43.9,
          63.3,
          28.8,
          30.7,
          24.4,
          53,
          31.7,
          40.6,
          38.1,
          23.7,
          41.1,
          40.1,
          23,
          117.5,
          26.5,
          40.5,
          29.3,
          41,
          49.7,
          34,
          27.7,
          44,
          31.1,
          45.4,
          44.8,
          25.6,
          23.5,
          34.4,
          55.3,
          56.3,
          32.9,
          51,
          44.5,
          37,
          54.4,
          24.5,
          42.5,
          38.1,
          21.8,
          34.1,
          28.5,
          16.7,
          46.1,
          36.9,
          35.7,
          23.2,
          38.4,
          29.4,
          55,
          50.2,
          24.7,
          53,
          19.1,
          24.7,
          42.2,
          78,
          42.8,
          41.6,
          27.3,
          42,
          37.5,
          49.8,
          26.9,
          18.6,
          37.7,
          33.1,
          42.5,
          31.3,
          38.1,
          62.1,
          36.7,
          23.6,
          19.2,
          12.8,
          15.6,
          39.6,
          38.4,
          22.8,
          36.5,
          35.6,
          30.9,
          36.3,
          50.4,
          42.9,
          37,
          53.5,
          46.6,
          41.2,
          37.9,
          30.8,
          11.2,
          53.7,
          47,
          42.3,
          28.6,
          25.7,
          31.3,
          30.1,
          60.7,
          45.3,
          44.9,
          45.1,
          24.7,
          47.1,
          63.3,
          40,
          48,
          33.1,
          29.5,
          24.8,
          20.9,
          43.1,
          22.8,
          42.1,
          51.7,
          41.5,
          52.2,
          49.5,
          23.8,
          30.5,
          56.8,
          37.4,
          69.7,
          53.3,
          47.3,
          29.3,
          40.3,
          12.9,
          46.6,
          55.3,
          25.6,
          27.3,
          67.7,
          38.6,
          31.3,
          35.3,
          40.3,
          24.7,
          42.5,
          31.9,
          32.2,
          23,
          37.3,
          35.5,
          27.7,
          28.5,
          39.7,
          41.2,
          37.2,
          40.5,
          22.3,
          28.1,
          15.4,
          50,
          40.6,
          52.5,
          63.9
         ],
         "lat": [
          24.98298,
          24.98034,
          24.98746,
          24.98746,
          24.97937,
          24.96305,
          24.97933,
          24.98042,
          24.95095,
          24.96731,
          24.97349,
          24.97433,
          24.96515,
          24.96108,
          24.99156,
          24.9824,
          24.97744,
          24.97544,
          24.9675,
          24.96772,
          24.96314,
          24.97528,
          24.95204,
          24.97528,
          24.97353,
          24.97542,
          24.98085,
          24.95593,
          24.97419,
          24.97563,
          24.94826,
          24.98281,
          24.97349,
          24.97841,
          24.98419,
          25.01459,
          24.96386,
          24.95204,
          24.97201,
          24.98203,
          24.94155,
          24.94297,
          24.96305,
          24.98748,
          24.97445,
          24.97015,
          24.9703,
          24.97563,
          24.94684,
          24.94925,
          24.974,
          24.95402,
          24.97419,
          24.96515,
          24.98203,
          24.94968,
          24.97254,
          24.95744,
          24.94925,
          24.95776,
          24.96365,
          24.97585,
          24.96303,
          24.97445,
          24.96305,
          24.97635,
          24.96571,
          24.96674,
          24.97964,
          24.98746,
          24.97433,
          24.97563,
          24.97587,
          24.94155,
          24.98343,
          24.95204,
          24.97723,
          24.96322,
          24.97598,
          24.95182,
          24.97445,
          24.96427,
          24.96725,
          24.96056,
          24.96735,
          24.96853,
          24.9512,
          24.94297,
          24.98573,
          24.94783,
          24.9748,
          24.98569,
          24.96108,
          24.9492,
          24.9663,
          24.96674,
          24.97433,
          24.97746,
          24.98203,
          24.97433,
          24.98872,
          24.97371,
          24.96571,
          24.95618,
          24.96398,
          24.97744,
          24.97707,
          24.95204,
          24.9726,
          24.96299,
          24.96674,
          24.97701,
          24.96044,
          24.96172,
          24.98155,
          24.98092,
          24.94375,
          24.93885,
          24.96622,
          24.98203,
          24.96515,
          24.96515,
          24.98199,
          24.9711,
          24.97528,
          24.96571,
          24.97838,
          24.98085,
          24.96674,
          24.98086,
          24.98092,
          24.96299,
          24.97433,
          24.9866,
          24.96604,
          24.96357,
          24.97937,
          24.96495,
          24.97843,
          24.96515,
          24.98203,
          24.97213,
          24.97017,
          24.96515,
          24.95204,
          24.97563,
          24.9711,
          24.97017,
          24.93293,
          24.97349,
          24.96719,
          24.98118,
          24.95204,
          24.95418,
          24.94297,
          24.94155,
          24.94883,
          24.97886,
          24.97937,
          24.97886,
          24.95836,
          24.97723,
          24.94297,
          24.96674,
          24.9711,
          24.97694,
          24.97744,
          24.97408,
          24.96299,
          24.95468,
          24.94741,
          24.98085,
          24.97433,
          24.98326,
          24.9805,
          24.97005,
          24.94867,
          24.97697,
          24.99176,
          24.97493,
          24.94898,
          24.98489,
          24.96299,
          24.94155,
          24.95495,
          24.97285,
          24.96322,
          24.95464,
          24.97707,
          24.94297,
          24.97945,
          24.97371,
          24.9675,
          24.98246,
          24.93363,
          24.95425,
          24.981,
          24.96881,
          24.96628,
          24.96945,
          24.96305,
          24.98746,
          24.97559,
          24.98203,
          24.95182,
          24.97289,
          24.98343,
          24.97503,
          24.95204,
          24.97347,
          24.97937,
          24.9748,
          24.98672,
          24.97433,
          24.96731,
          24.972,
          24.97153,
          24.97838,
          24.96515,
          24.98102,
          24.97703,
          24.98569,
          24.98123,
          24.98569,
          24.97814,
          24.96571,
          24.94155,
          24.98059,
          25.00115,
          24.9489,
          24.96299,
          24.94235,
          24.95032,
          24.98016,
          24.96007,
          24.96606,
          24.98322,
          24.97668,
          24.97668,
          24.96334,
          24.96412,
          24.96606,
          24.96357,
          24.98236,
          24.97213,
          24.97258,
          24.96412,
          24.96211,
          24.96357,
          24.95743,
          24.97429,
          24.9496,
          24.97433,
          24.96464,
          24.98254,
          24.95095,
          24.97519,
          24.97501,
          24.97744,
          24.96334,
          24.97073,
          24.95885,
          24.98203,
          24.96299,
          24.96968,
          24.97886,
          24.96731,
          24.97433,
          24.97937,
          24.96334,
          24.9746,
          24.96945,
          24.96515,
          24.97371,
          24.97305,
          24.96772,
          24.95425,
          24.96322,
          24.95618,
          24.97026,
          24.96581,
          24.98118,
          24.9512,
          24.98674,
          24.96735,
          24.97509,
          24.97433,
          24.95425,
          24.97841,
          24.98203,
          24.97217,
          24.95744,
          24.95674,
          24.96735,
          24.9796,
          24.96299,
          24.99176,
          24.97003,
          24.94155,
          24.98178,
          24.96696,
          24.97229,
          24.95885,
          24.97161,
          24.96622,
          24.98203,
          24.97369,
          24.9546,
          24.98203,
          24.94883,
          24.95394,
          24.97425,
          24.97071,
          24.96674,
          24.97201,
          24.9832,
          24.96606,
          24.97795,
          24.98343,
          24.95562,
          24.93885,
          24.98872,
          24.97388,
          24.97631,
          24.96412,
          24.97015,
          24.95744,
          24.97538,
          24.97003,
          24.93885,
          24.94935,
          24.94826,
          24.97577,
          24.96674,
          24.99006,
          24.96431,
          24.98407,
          24.96871,
          24.96867,
          24.98254,
          24.97281,
          24.97371,
          24.97433,
          24.98223,
          24.998,
          24.9711,
          24.96412,
          24.95719,
          24.97585,
          24.96674,
          24.96515,
          24.96324,
          24.96143,
          24.96299,
          24.95204,
          24.98085,
          24.97417,
          24.96853,
          24.96571,
          24.95505,
          24.983,
          24.97345,
          24.98872,
          24.98182,
          24.97913,
          24.96182,
          24.95153,
          24.96464,
          24.97544,
          24.96322,
          24.98203,
          24.95591,
          24.96628,
          24.9748,
          24.97937,
          24.96165,
          24.96447,
          24.95836,
          24.97077,
          24.97744,
          24.98203,
          24.98298,
          24.93207,
          24.97845,
          24.94297,
          24.983,
          24.9711,
          24.96042,
          24.95957,
          24.96756,
          24.97151,
          24.95155,
          24.97927,
          24.98872,
          24.95544,
          24.974,
          24.97198,
          24.99156,
          24.96447,
          24.97371,
          24.97433,
          24.96305,
          24.97388,
          24.98353,
          24.98203,
          24.95663,
          24.97293,
          24.95505,
          24.9633,
          24.94155,
          24.97433,
          24.97923,
          24.96674,
          24.97433
         ],
         "legendgroup": "",
         "lon": [
          121.54024,
          121.53951,
          121.54391,
          121.54391,
          121.54245,
          121.51254,
          121.53642,
          121.54228,
          121.48458,
          121.51486,
          121.53372,
          121.5431,
          121.53737,
          121.51046,
          121.53406,
          121.54619,
          121.54458,
          121.53119,
          121.54451,
          121.54102,
          121.51151,
          121.54541,
          121.54842,
          121.54541,
          121.53885,
          121.51726,
          121.54391,
          121.53913,
          121.53797,
          121.54694,
          121.49587,
          121.53408,
          121.53451,
          121.54281,
          121.54243,
          121.51816,
          121.51458,
          121.54842,
          121.54722,
          121.54348,
          121.50381,
          121.50342,
          121.53758,
          121.54301,
          121.54765,
          121.54494,
          121.54458,
          121.53715,
          121.49578,
          121.49542,
          121.53842,
          121.55282,
          121.5175,
          121.53737,
          121.54348,
          121.53009,
          121.54059,
          121.53711,
          121.49542,
          121.53438,
          121.51471,
          121.54516,
          121.51254,
          121.54765,
          121.54915,
          121.54329,
          121.54089,
          121.54067,
          121.53805,
          121.54391,
          121.5431,
          121.53715,
          121.53913,
          121.50381,
          121.53762,
          121.54842,
          121.53767,
          121.51237,
          121.53381,
          121.54887,
          121.54765,
          121.53964,
          121.54252,
          121.50831,
          121.54464,
          121.54413,
          121.549,
          121.50342,
          121.52758,
          121.50243,
          121.53059,
          121.5276,
          121.51046,
          121.53076,
          121.54026,
          121.54067,
          121.5431,
          121.53299,
          121.54348,
          121.5431,
          121.53411,
          121.52984,
          121.54089,
          121.53844,
          121.5425,
          121.54458,
          121.54308,
          121.54842,
          121.53561,
          121.51284,
          121.54067,
          121.54224,
          121.51462,
          121.53812,
          121.54142,
          121.54739,
          121.47883,
          121.50383,
          121.51709,
          121.54348,
          121.53737,
          121.53737,
          121.54464,
          121.5317,
          121.54541,
          121.54089,
          121.53477,
          121.54391,
          121.54039,
          121.54162,
          121.53653,
          121.51284,
          121.53863,
          121.54082,
          121.54211,
          121.54951,
          121.54245,
          121.54277,
          121.52406,
          121.53737,
          121.54348,
          121.51627,
          121.54647,
          121.53737,
          121.54842,
          121.54694,
          121.5317,
          121.54494,
          121.51203,
          121.54245,
          121.54269,
          121.53788,
          121.54842,
          121.53713,
          121.50342,
          121.50381,
          121.52954,
          121.53464,
          121.54245,
          121.53464,
          121.53756,
          121.53767,
          121.50342,
          121.54067,
          121.5317,
          121.55391,
          121.54458,
          121.54011,
          121.5432,
          121.55481,
          121.49628,
          121.54391,
          121.5431,
          121.5446,
          121.53778,
          121.53758,
          121.49507,
          121.54262,
          121.53456,
          121.5273,
          121.49621,
          121.54121,
          121.51284,
          121.50381,
          121.56174,
          121.5173,
          121.51237,
          121.56627,
          121.54312,
          121.50342,
          121.53642,
          121.54951,
          121.54069,
          121.54477,
          121.51158,
          121.5399,
          121.54713,
          121.54089,
          121.54196,
          121.5449,
          121.54915,
          121.54391,
          121.53713,
          121.54348,
          121.54887,
          121.51728,
          121.53762,
          121.53692,
          121.54842,
          121.54271,
          121.54245,
          121.53059,
          121.52091,
          121.5431,
          121.51486,
          121.54477,
          121.53559,
          121.54119,
          121.53737,
          121.53655,
          121.54265,
          121.5276,
          121.53743,
          121.5276,
          121.5417,
          121.54089,
          121.50381,
          121.53986,
          121.51776,
          121.53095,
          121.51284,
          121.50357,
          121.49587,
          121.53932,
          121.51361,
          121.54297,
          121.53765,
          121.52518,
          121.52518,
          121.54767,
          121.5167,
          121.54297,
          121.51329,
          121.53923,
          121.51627,
          121.54814,
          121.54273,
          121.54928,
          121.54951,
          121.47516,
          121.53917,
          121.53018,
          121.5431,
          121.51623,
          121.54395,
          121.48458,
          121.53151,
          121.5273,
          121.54458,
          121.54767,
          121.517,
          121.51359,
          121.54348,
          121.51284,
          121.54522,
          121.53464,
          121.51486,
          121.53863,
          121.54245,
          121.54767,
          121.53046,
          121.5449,
          121.53737,
          121.52984,
          121.53994,
          121.54102,
          121.5399,
          121.51237,
          121.53844,
          121.51642,
          121.54086,
          121.53788,
          121.549,
          121.51844,
          121.54464,
          121.53644,
          121.5431,
          121.5399,
          121.5428,
          121.54348,
          121.53471,
          121.53711,
          121.534,
          121.54464,
          121.5414,
          121.51252,
          121.53456,
          121.5458,
          121.50381,
          121.54059,
          121.53992,
          121.53445,
          121.51359,
          121.53423,
          121.51668,
          121.54348,
          121.52979,
          121.56627,
          121.54348,
          121.52954,
          121.55174,
          121.53814,
          121.54069,
          121.54067,
          121.54722,
          121.51812,
          121.54297,
          121.53451,
          121.53762,
          121.53872,
          121.50383,
          121.53411,
          121.52981,
          121.54436,
          121.5167,
          121.54494,
          121.53711,
          121.54971,
          121.51696,
          121.50383,
          121.53046,
          121.49587,
          121.53475,
          121.54067,
          121.5346,
          121.54063,
          121.51748,
          121.54651,
          121.54331,
          121.54395,
          121.53265,
          121.54951,
          121.5431,
          121.53597,
          121.5155,
          121.5317,
          121.5167,
          121.47353,
          121.54516,
          121.54067,
          121.53737,
          121.51241,
          121.50827,
          121.51284,
          121.54842,
          121.54391,
          121.52999,
          121.54413,
          121.54089,
          121.55964,
          121.54022,
          121.54093,
          121.53408,
          121.54086,
          121.53666,
          121.51222,
          121.55254,
          121.51531,
          121.53119,
          121.51237,
          121.54348,
          121.53956,
          121.54196,
          121.53059,
          121.54245,
          121.55011,
          121.51649,
          121.53756,
          121.54634,
          121.54458,
          121.54348,
          121.53981,
          121.51597,
          121.53889,
          121.50342,
          121.54026,
          121.5317,
          121.51462,
          121.51353,
          121.5423,
          121.5435,
          121.55387,
          121.53874,
          121.53408,
          121.4963,
          121.53842,
          121.55063,
          121.53406,
          121.51649,
          121.52984,
          121.53863,
          121.51254,
          121.52981,
          121.53966,
          121.54348,
          121.53765,
          121.54026,
          121.55964,
          121.51243,
          121.50381,
          121.5431,
          121.53986,
          121.54067,
          121.5431
         ],
         "marker": {
          "color": [
           37.9,
           42.2,
           47.3,
           54.8,
           43.1,
           32.1,
           40.3,
           46.7,
           18.8,
           22.1,
           41.4,
           58.1,
           39.3,
           23.8,
           34.3,
           50.5,
           70.1,
           37.4,
           42.3,
           47.7,
           29.3,
           51.6,
           24.6,
           47.9,
           38.8,
           27,
           56.2,
           33.6,
           47,
           57.1,
           22.1,
           25,
           34.2,
           49.3,
           55.1,
           27.3,
           22.9,
           25.3,
           47.7,
           46.2,
           15.9,
           18.2,
           34.7,
           34.1,
           53.9,
           38.3,
           42,
           61.5,
           13.4,
           13.2,
           44.2,
           20.7,
           27,
           38.9,
           51.7,
           13.7,
           41.9,
           53.5,
           22.6,
           42.4,
           21.3,
           63.2,
           27.7,
           55,
           25.3,
           44.3,
           50.7,
           56.8,
           36.2,
           42,
           59,
           40.8,
           36.3,
           20,
           54.4,
           29.5,
           36.8,
           25.6,
           29.8,
           26.5,
           40.3,
           36.8,
           48.1,
           17.7,
           43.7,
           50.8,
           27,
           18.3,
           48,
           25.3,
           45.4,
           43.2,
           21.8,
           16.1,
           41,
           51.8,
           59.5,
           34.6,
           51,
           62.2,
           38.2,
           32.9,
           54.4,
           45.7,
           30.5,
           71,
           47.1,
           26.6,
           34.1,
           28.4,
           51.6,
           39.4,
           23.1,
           7.6,
           53.3,
           46.4,
           12.2,
           13,
           30.6,
           59.6,
           31.3,
           48,
           32.5,
           45.5,
           57.4,
           48.6,
           62.9,
           55,
           60.7,
           41,
           37.5,
           30.7,
           37.5,
           39.5,
           42.2,
           20.8,
           46.8,
           47.4,
           43.5,
           42.5,
           51.4,
           28.9,
           37.5,
           40.1,
           28.4,
           45.5,
           52.2,
           43.2,
           45.1,
           39.7,
           48.5,
           44.7,
           28.9,
           40.9,
           20.7,
           15.6,
           18.3,
           35.6,
           39.4,
           37.4,
           57.8,
           39.6,
           11.6,
           55.5,
           55.2,
           30.6,
           73.6,
           43.4,
           37.4,
           23.5,
           14.4,
           58.8,
           58.1,
           35.1,
           45.2,
           36.5,
           19.2,
           42,
           36.7,
           42.6,
           15.5,
           55.9,
           23.6,
           18.8,
           21.8,
           21.5,
           25.7,
           22,
           44.3,
           20.5,
           42.3,
           37.8,
           42.7,
           49.3,
           29.3,
           34.6,
           36.6,
           48.2,
           39.1,
           31.6,
           25.5,
           45.9,
           31.5,
           46.1,
           26.6,
           21.4,
           44,
           34.2,
           26.2,
           40.9,
           52.2,
           43.5,
           31.1,
           58,
           20.9,
           48.1,
           39.7,
           40.8,
           43.8,
           40.2,
           78.3,
           38.5,
           48.5,
           42.3,
           46,
           49,
           12.8,
           40.2,
           46.6,
           19,
           33.4,
           14.7,
           17.4,
           32.4,
           23.9,
           39.3,
           61.9,
           39,
           40.6,
           29.7,
           28.8,
           41.4,
           33.4,
           48.2,
           21.7,
           40.8,
           40.6,
           23.1,
           22.3,
           15,
           30,
           13.8,
           52.7,
           25.9,
           51.8,
           17.4,
           26.5,
           43.9,
           63.3,
           28.8,
           30.7,
           24.4,
           53,
           31.7,
           40.6,
           38.1,
           23.7,
           41.1,
           40.1,
           23,
           117.5,
           26.5,
           40.5,
           29.3,
           41,
           49.7,
           34,
           27.7,
           44,
           31.1,
           45.4,
           44.8,
           25.6,
           23.5,
           34.4,
           55.3,
           56.3,
           32.9,
           51,
           44.5,
           37,
           54.4,
           24.5,
           42.5,
           38.1,
           21.8,
           34.1,
           28.5,
           16.7,
           46.1,
           36.9,
           35.7,
           23.2,
           38.4,
           29.4,
           55,
           50.2,
           24.7,
           53,
           19.1,
           24.7,
           42.2,
           78,
           42.8,
           41.6,
           27.3,
           42,
           37.5,
           49.8,
           26.9,
           18.6,
           37.7,
           33.1,
           42.5,
           31.3,
           38.1,
           62.1,
           36.7,
           23.6,
           19.2,
           12.8,
           15.6,
           39.6,
           38.4,
           22.8,
           36.5,
           35.6,
           30.9,
           36.3,
           50.4,
           42.9,
           37,
           53.5,
           46.6,
           41.2,
           37.9,
           30.8,
           11.2,
           53.7,
           47,
           42.3,
           28.6,
           25.7,
           31.3,
           30.1,
           60.7,
           45.3,
           44.9,
           45.1,
           24.7,
           47.1,
           63.3,
           40,
           48,
           33.1,
           29.5,
           24.8,
           20.9,
           43.1,
           22.8,
           42.1,
           51.7,
           41.5,
           52.2,
           49.5,
           23.8,
           30.5,
           56.8,
           37.4,
           69.7,
           53.3,
           47.3,
           29.3,
           40.3,
           12.9,
           46.6,
           55.3,
           25.6,
           27.3,
           67.7,
           38.6,
           31.3,
           35.3,
           40.3,
           24.7,
           42.5,
           31.9,
           32.2,
           23,
           37.3,
           35.5,
           27.7,
           28.5,
           39.7,
           41.2,
           37.2,
           40.5,
           22.3,
           28.1,
           15.4,
           50,
           40.6,
           52.5,
           63.9
          ],
          "coloraxis": "coloraxis"
         },
         "mode": "markers",
         "name": "",
         "showlegend": false,
         "subplot": "mapbox",
         "type": "scattermapbox"
        }
       ],
       "layout": {
        "coloraxis": {
         "colorbar": {
          "title": {
           "text": "Y house price of unit area"
          }
         },
         "colorscale": [
          [
           0,
           "#0d0887"
          ],
          [
           0.1111111111111111,
           "#46039f"
          ],
          [
           0.2222222222222222,
           "#7201a8"
          ],
          [
           0.3333333333333333,
           "#9c179e"
          ],
          [
           0.4444444444444444,
           "#bd3786"
          ],
          [
           0.5555555555555556,
           "#d8576b"
          ],
          [
           0.6666666666666666,
           "#ed7953"
          ],
          [
           0.7777777777777778,
           "#fb9f3a"
          ],
          [
           0.8888888888888888,
           "#fdca26"
          ],
          [
           1,
           "#f0f921"
          ]
         ]
        },
        "height": 600,
        "legend": {
         "tracegroupgap": 0
        },
        "mapbox": {
         "center": {
          "lat": 24.969030072463767,
          "lon": 121.53336108695655
         },
         "domain": {
          "x": [
           0,
           1
          ],
          "y": [
           0,
           1
          ]
         },
         "style": "open-street-map",
         "zoom": 8
        },
        "template": {
         "data": {
          "bar": [
           {
            "error_x": {
             "color": "#2a3f5f"
            },
            "error_y": {
             "color": "#2a3f5f"
            },
            "marker": {
             "line": {
              "color": "#E5ECF6",
              "width": 0.5
             },
             "pattern": {
              "fillmode": "overlay",
              "size": 10,
              "solidity": 0.2
             }
            },
            "type": "bar"
           }
          ],
          "barpolar": [
           {
            "marker": {
             "line": {
              "color": "#E5ECF6",
              "width": 0.5
             },
             "pattern": {
              "fillmode": "overlay",
              "size": 10,
              "solidity": 0.2
             }
            },
            "type": "barpolar"
           }
          ],
          "carpet": [
           {
            "aaxis": {
             "endlinecolor": "#2a3f5f",
             "gridcolor": "white",
             "linecolor": "white",
             "minorgridcolor": "white",
             "startlinecolor": "#2a3f5f"
            },
            "baxis": {
             "endlinecolor": "#2a3f5f",
             "gridcolor": "white",
             "linecolor": "white",
             "minorgridcolor": "white",
             "startlinecolor": "#2a3f5f"
            },
            "type": "carpet"
           }
          ],
          "choropleth": [
           {
            "colorbar": {
             "outlinewidth": 0,
             "ticks": ""
            },
            "type": "choropleth"
           }
          ],
          "contour": [
           {
            "colorbar": {
             "outlinewidth": 0,
             "ticks": ""
            },
            "colorscale": [
             [
              0,
              "#0d0887"
             ],
             [
              0.1111111111111111,
              "#46039f"
             ],
             [
              0.2222222222222222,
              "#7201a8"
             ],
             [
              0.3333333333333333,
              "#9c179e"
             ],
             [
              0.4444444444444444,
              "#bd3786"
             ],
             [
              0.5555555555555556,
              "#d8576b"
             ],
             [
              0.6666666666666666,
              "#ed7953"
             ],
             [
              0.7777777777777778,
              "#fb9f3a"
             ],
             [
              0.8888888888888888,
              "#fdca26"
             ],
             [
              1,
              "#f0f921"
             ]
            ],
            "type": "contour"
           }
          ],
          "contourcarpet": [
           {
            "colorbar": {
             "outlinewidth": 0,
             "ticks": ""
            },
            "type": "contourcarpet"
           }
          ],
          "heatmap": [
           {
            "colorbar": {
             "outlinewidth": 0,
             "ticks": ""
            },
            "colorscale": [
             [
              0,
              "#0d0887"
             ],
             [
              0.1111111111111111,
              "#46039f"
             ],
             [
              0.2222222222222222,
              "#7201a8"
             ],
             [
              0.3333333333333333,
              "#9c179e"
             ],
             [
              0.4444444444444444,
              "#bd3786"
             ],
             [
              0.5555555555555556,
              "#d8576b"
             ],
             [
              0.6666666666666666,
              "#ed7953"
             ],
             [
              0.7777777777777778,
              "#fb9f3a"
             ],
             [
              0.8888888888888888,
              "#fdca26"
             ],
             [
              1,
              "#f0f921"
             ]
            ],
            "type": "heatmap"
           }
          ],
          "heatmapgl": [
           {
            "colorbar": {
             "outlinewidth": 0,
             "ticks": ""
            },
            "colorscale": [
             [
              0,
              "#0d0887"
             ],
             [
              0.1111111111111111,
              "#46039f"
             ],
             [
              0.2222222222222222,
              "#7201a8"
             ],
             [
              0.3333333333333333,
              "#9c179e"
             ],
             [
              0.4444444444444444,
              "#bd3786"
             ],
             [
              0.5555555555555556,
              "#d8576b"
             ],
             [
              0.6666666666666666,
              "#ed7953"
             ],
             [
              0.7777777777777778,
              "#fb9f3a"
             ],
             [
              0.8888888888888888,
              "#fdca26"
             ],
             [
              1,
              "#f0f921"
             ]
            ],
            "type": "heatmapgl"
           }
          ],
          "histogram": [
           {
            "marker": {
             "pattern": {
              "fillmode": "overlay",
              "size": 10,
              "solidity": 0.2
             }
            },
            "type": "histogram"
           }
          ],
          "histogram2d": [
           {
            "colorbar": {
             "outlinewidth": 0,
             "ticks": ""
            },
            "colorscale": [
             [
              0,
              "#0d0887"
             ],
             [
              0.1111111111111111,
              "#46039f"
             ],
             [
              0.2222222222222222,
              "#7201a8"
             ],
             [
              0.3333333333333333,
              "#9c179e"
             ],
             [
              0.4444444444444444,
              "#bd3786"
             ],
             [
              0.5555555555555556,
              "#d8576b"
             ],
             [
              0.6666666666666666,
              "#ed7953"
             ],
             [
              0.7777777777777778,
              "#fb9f3a"
             ],
             [
              0.8888888888888888,
              "#fdca26"
             ],
             [
              1,
              "#f0f921"
             ]
            ],
            "type": "histogram2d"
           }
          ],
          "histogram2dcontour": [
           {
            "colorbar": {
             "outlinewidth": 0,
             "ticks": ""
            },
            "colorscale": [
             [
              0,
              "#0d0887"
             ],
             [
              0.1111111111111111,
              "#46039f"
             ],
             [
              0.2222222222222222,
              "#7201a8"
             ],
             [
              0.3333333333333333,
              "#9c179e"
             ],
             [
              0.4444444444444444,
              "#bd3786"
             ],
             [
              0.5555555555555556,
              "#d8576b"
             ],
             [
              0.6666666666666666,
              "#ed7953"
             ],
             [
              0.7777777777777778,
              "#fb9f3a"
             ],
             [
              0.8888888888888888,
              "#fdca26"
             ],
             [
              1,
              "#f0f921"
             ]
            ],
            "type": "histogram2dcontour"
           }
          ],
          "mesh3d": [
           {
            "colorbar": {
             "outlinewidth": 0,
             "ticks": ""
            },
            "type": "mesh3d"
           }
          ],
          "parcoords": [
           {
            "line": {
             "colorbar": {
              "outlinewidth": 0,
              "ticks": ""
             }
            },
            "type": "parcoords"
           }
          ],
          "pie": [
           {
            "automargin": true,
            "type": "pie"
           }
          ],
          "scatter": [
           {
            "fillpattern": {
             "fillmode": "overlay",
             "size": 10,
             "solidity": 0.2
            },
            "type": "scatter"
           }
          ],
          "scatter3d": [
           {
            "line": {
             "colorbar": {
              "outlinewidth": 0,
              "ticks": ""
             }
            },
            "marker": {
             "colorbar": {
              "outlinewidth": 0,
              "ticks": ""
             }
            },
            "type": "scatter3d"
           }
          ],
          "scattercarpet": [
           {
            "marker": {
             "colorbar": {
              "outlinewidth": 0,
              "ticks": ""
             }
            },
            "type": "scattercarpet"
           }
          ],
          "scattergeo": [
           {
            "marker": {
             "colorbar": {
              "outlinewidth": 0,
              "ticks": ""
             }
            },
            "type": "scattergeo"
           }
          ],
          "scattergl": [
           {
            "marker": {
             "colorbar": {
              "outlinewidth": 0,
              "ticks": ""
             }
            },
            "type": "scattergl"
           }
          ],
          "scattermapbox": [
           {
            "marker": {
             "colorbar": {
              "outlinewidth": 0,
              "ticks": ""
             }
            },
            "type": "scattermapbox"
           }
          ],
          "scatterpolar": [
           {
            "marker": {
             "colorbar": {
              "outlinewidth": 0,
              "ticks": ""
             }
            },
            "type": "scatterpolar"
           }
          ],
          "scatterpolargl": [
           {
            "marker": {
             "colorbar": {
              "outlinewidth": 0,
              "ticks": ""
             }
            },
            "type": "scatterpolargl"
           }
          ],
          "scatterternary": [
           {
            "marker": {
             "colorbar": {
              "outlinewidth": 0,
              "ticks": ""
             }
            },
            "type": "scatterternary"
           }
          ],
          "surface": [
           {
            "colorbar": {
             "outlinewidth": 0,
             "ticks": ""
            },
            "colorscale": [
             [
              0,
              "#0d0887"
             ],
             [
              0.1111111111111111,
              "#46039f"
             ],
             [
              0.2222222222222222,
              "#7201a8"
             ],
             [
              0.3333333333333333,
              "#9c179e"
             ],
             [
              0.4444444444444444,
              "#bd3786"
             ],
             [
              0.5555555555555556,
              "#d8576b"
             ],
             [
              0.6666666666666666,
              "#ed7953"
             ],
             [
              0.7777777777777778,
              "#fb9f3a"
             ],
             [
              0.8888888888888888,
              "#fdca26"
             ],
             [
              1,
              "#f0f921"
             ]
            ],
            "type": "surface"
           }
          ],
          "table": [
           {
            "cells": {
             "fill": {
              "color": "#EBF0F8"
             },
             "line": {
              "color": "white"
             }
            },
            "header": {
             "fill": {
              "color": "#C8D4E3"
             },
             "line": {
              "color": "white"
             }
            },
            "type": "table"
           }
          ]
         },
         "layout": {
          "annotationdefaults": {
           "arrowcolor": "#2a3f5f",
           "arrowhead": 0,
           "arrowwidth": 1
          },
          "autotypenumbers": "strict",
          "coloraxis": {
           "colorbar": {
            "outlinewidth": 0,
            "ticks": ""
           }
          },
          "colorscale": {
           "diverging": [
            [
             0,
             "#8e0152"
            ],
            [
             0.1,
             "#c51b7d"
            ],
            [
             0.2,
             "#de77ae"
            ],
            [
             0.3,
             "#f1b6da"
            ],
            [
             0.4,
             "#fde0ef"
            ],
            [
             0.5,
             "#f7f7f7"
            ],
            [
             0.6,
             "#e6f5d0"
            ],
            [
             0.7,
             "#b8e186"
            ],
            [
             0.8,
             "#7fbc41"
            ],
            [
             0.9,
             "#4d9221"
            ],
            [
             1,
             "#276419"
            ]
           ],
           "sequential": [
            [
             0,
             "#0d0887"
            ],
            [
             0.1111111111111111,
             "#46039f"
            ],
            [
             0.2222222222222222,
             "#7201a8"
            ],
            [
             0.3333333333333333,
             "#9c179e"
            ],
            [
             0.4444444444444444,
             "#bd3786"
            ],
            [
             0.5555555555555556,
             "#d8576b"
            ],
            [
             0.6666666666666666,
             "#ed7953"
            ],
            [
             0.7777777777777778,
             "#fb9f3a"
            ],
            [
             0.8888888888888888,
             "#fdca26"
            ],
            [
             1,
             "#f0f921"
            ]
           ],
           "sequentialminus": [
            [
             0,
             "#0d0887"
            ],
            [
             0.1111111111111111,
             "#46039f"
            ],
            [
             0.2222222222222222,
             "#7201a8"
            ],
            [
             0.3333333333333333,
             "#9c179e"
            ],
            [
             0.4444444444444444,
             "#bd3786"
            ],
            [
             0.5555555555555556,
             "#d8576b"
            ],
            [
             0.6666666666666666,
             "#ed7953"
            ],
            [
             0.7777777777777778,
             "#fb9f3a"
            ],
            [
             0.8888888888888888,
             "#fdca26"
            ],
            [
             1,
             "#f0f921"
            ]
           ]
          },
          "colorway": [
           "#636efa",
           "#EF553B",
           "#00cc96",
           "#ab63fa",
           "#FFA15A",
           "#19d3f3",
           "#FF6692",
           "#B6E880",
           "#FF97FF",
           "#FECB52"
          ],
          "font": {
           "color": "#2a3f5f"
          },
          "geo": {
           "bgcolor": "white",
           "lakecolor": "white",
           "landcolor": "#E5ECF6",
           "showlakes": true,
           "showland": true,
           "subunitcolor": "white"
          },
          "hoverlabel": {
           "align": "left"
          },
          "hovermode": "closest",
          "mapbox": {
           "style": "light"
          },
          "paper_bgcolor": "white",
          "plot_bgcolor": "#E5ECF6",
          "polar": {
           "angularaxis": {
            "gridcolor": "white",
            "linecolor": "white",
            "ticks": ""
           },
           "bgcolor": "#E5ECF6",
           "radialaxis": {
            "gridcolor": "white",
            "linecolor": "white",
            "ticks": ""
           }
          },
          "scene": {
           "xaxis": {
            "backgroundcolor": "#E5ECF6",
            "gridcolor": "white",
            "gridwidth": 2,
            "linecolor": "white",
            "showbackground": true,
            "ticks": "",
            "zerolinecolor": "white"
           },
           "yaxis": {
            "backgroundcolor": "#E5ECF6",
            "gridcolor": "white",
            "gridwidth": 2,
            "linecolor": "white",
            "showbackground": true,
            "ticks": "",
            "zerolinecolor": "white"
           },
           "zaxis": {
            "backgroundcolor": "#E5ECF6",
            "gridcolor": "white",
            "gridwidth": 2,
            "linecolor": "white",
            "showbackground": true,
            "ticks": "",
            "zerolinecolor": "white"
           }
          },
          "shapedefaults": {
           "line": {
            "color": "#2a3f5f"
           }
          },
          "ternary": {
           "aaxis": {
            "gridcolor": "white",
            "linecolor": "white",
            "ticks": ""
           },
           "baxis": {
            "gridcolor": "white",
            "linecolor": "white",
            "ticks": ""
           },
           "bgcolor": "#E5ECF6",
           "caxis": {
            "gridcolor": "white",
            "linecolor": "white",
            "ticks": ""
           }
          },
          "title": {
           "x": 0.05
          },
          "xaxis": {
           "automargin": true,
           "gridcolor": "white",
           "linecolor": "white",
           "ticks": "",
           "title": {
            "standoff": 15
           },
           "zerolinecolor": "white",
           "zerolinewidth": 2
          },
          "yaxis": {
           "automargin": true,
           "gridcolor": "white",
           "linecolor": "white",
           "ticks": "",
           "title": {
            "standoff": 15
           },
           "zerolinecolor": "white",
           "zerolinewidth": 2
          }
         }
        },
        "title": {
         "text": "House Prices by Location"
        },
        "width": 800
       }
      }
     },
     "metadata": {},
     "output_type": "display_data"
    }
   ],
   "source": [
    "fig = px.scatter_mapbox(df, lat=\"X5 latitude\", lon=\"X6 longitude\", width=800, height=600, color=\"Y house price of unit area\", hover_name=\"Y house price of unit area\", title=\"House Prices by Location\")\n",
    "fig.update_layout(mapbox_style=\"open-street-map\")"
   ]
  },
  {
   "cell_type": "code",
   "execution_count": 17,
   "id": "a8facd3b",
   "metadata": {},
   "outputs": [],
   "source": [
    "#df[\"X1 transaction date\"] = pd.to_datetime(df[\"X1 transaction date\"], format=\"mixed\") \n",
    "#df[\"Year\"] = df[\"X1 transaction date\"].dt.year  \n",
    "#df[\"Month\"] = df[\"X1 transaction date\"].dt.month"
   ]
  },
  {
   "cell_type": "code",
   "execution_count": 18,
   "id": "4f43533d",
   "metadata": {},
   "outputs": [
    {
     "data": {
      "application/vnd.microsoft.datawrangler.viewer.v0+json": {
       "columns": [
        {
         "name": "index",
         "rawType": "int64",
         "type": "integer"
        },
        {
         "name": "X2 house age",
         "rawType": "float64",
         "type": "float"
        },
        {
         "name": "X3 distance to the nearest MRT station",
         "rawType": "float64",
         "type": "float"
        },
        {
         "name": "X4 number of convenience stores",
         "rawType": "int64",
         "type": "integer"
        },
        {
         "name": "X5 latitude",
         "rawType": "float64",
         "type": "float"
        },
        {
         "name": "X6 longitude",
         "rawType": "float64",
         "type": "float"
        },
        {
         "name": "Y house price of unit area",
         "rawType": "float64",
         "type": "float"
        }
       ],
       "conversionMethod": "pd.DataFrame",
       "ref": "fdfc6d55-9502-4882-8b9b-4ccc06c001a5",
       "rows": [
        [
         "0",
         "32.0",
         "84.87882",
         "10",
         "24.98298",
         "121.54024",
         "37.9"
        ],
        [
         "1",
         "19.5",
         "306.5947",
         "9",
         "24.98034",
         "121.53951",
         "42.2"
        ],
        [
         "2",
         "13.3",
         "561.9845",
         "5",
         "24.98746",
         "121.54391",
         "47.3"
        ],
        [
         "3",
         "13.3",
         "561.9845",
         "5",
         "24.98746",
         "121.54391",
         "54.8"
        ],
        [
         "4",
         "5.0",
         "390.5684",
         "5",
         "24.97937",
         "121.54245",
         "43.1"
        ],
        [
         "5",
         "7.1",
         "2175.03",
         "3",
         "24.96305",
         "121.51254",
         "32.1"
        ],
        [
         "6",
         "34.5",
         "623.4731",
         "7",
         "24.97933",
         "121.53642",
         "40.3"
        ],
        [
         "7",
         "20.3",
         "287.6025",
         "6",
         "24.98042",
         "121.54228",
         "46.7"
        ],
        [
         "8",
         "31.7",
         "5512.038",
         "1",
         "24.95095",
         "121.48458",
         "18.8"
        ],
        [
         "9",
         "17.9",
         "1783.18",
         "3",
         "24.96731",
         "121.51486",
         "22.1"
        ],
        [
         "10",
         "34.8",
         "405.2134",
         "1",
         "24.97349",
         "121.53372",
         "41.4"
        ],
        [
         "11",
         "6.3",
         "90.45606",
         "9",
         "24.97433",
         "121.5431",
         "58.1"
        ],
        [
         "12",
         "13.0",
         "492.2313",
         "5",
         "24.96515",
         "121.53737",
         "39.3"
        ],
        [
         "13",
         "20.4",
         "2469.645",
         "4",
         "24.96108",
         "121.51046",
         "23.8"
        ],
        [
         "14",
         "13.2",
         "1164.838",
         "4",
         "24.99156",
         "121.53406",
         "34.3"
        ],
        [
         "15",
         "35.7",
         "579.2083",
         "2",
         "24.9824",
         "121.54619",
         "50.5"
        ],
        [
         "16",
         "0.0",
         "292.9978",
         "6",
         "24.97744",
         "121.54458",
         "70.1"
        ],
        [
         "17",
         "17.7",
         "350.8515",
         "1",
         "24.97544",
         "121.53119",
         "37.4"
        ],
        [
         "18",
         "16.9",
         "368.1363",
         "8",
         "24.9675",
         "121.54451",
         "42.3"
        ],
        [
         "19",
         "1.5",
         "23.38284",
         "7",
         "24.96772",
         "121.54102",
         "47.7"
        ],
        [
         "20",
         "4.5",
         "2275.877",
         "3",
         "24.96314",
         "121.51151",
         "29.3"
        ],
        [
         "21",
         "10.5",
         "279.1726",
         "7",
         "24.97528",
         "121.54541",
         "51.6"
        ],
        [
         "22",
         "14.7",
         "1360.139",
         "1",
         "24.95204",
         "121.54842",
         "24.6"
        ],
        [
         "23",
         "10.1",
         "279.1726",
         "7",
         "24.97528",
         "121.54541",
         "47.9"
        ],
        [
         "24",
         "39.6",
         "480.6977",
         "4",
         "24.97353",
         "121.53885",
         "38.8"
        ],
        [
         "25",
         "29.3",
         "1487.868",
         "2",
         "24.97542",
         "121.51726",
         "27.0"
        ],
        [
         "26",
         "3.1",
         "383.8624",
         "5",
         "24.98085",
         "121.54391",
         "56.2"
        ],
        [
         "27",
         "10.4",
         "276.449",
         "5",
         "24.95593",
         "121.53913",
         "33.6"
        ],
        [
         "28",
         "19.2",
         "557.478",
         "4",
         "24.97419",
         "121.53797",
         "47.0"
        ],
        [
         "29",
         "7.1",
         "451.2438",
         "5",
         "24.97563",
         "121.54694",
         "57.1"
        ],
        [
         "30",
         "25.9",
         "4519.69",
         "0",
         "24.94826",
         "121.49587",
         "22.1"
        ],
        [
         "31",
         "29.6",
         "769.4034",
         "7",
         "24.98281",
         "121.53408",
         "25.0"
        ],
        [
         "32",
         "37.9",
         "488.5727",
         "1",
         "24.97349",
         "121.53451",
         "34.2"
        ],
        [
         "33",
         "16.5",
         "323.655",
         "6",
         "24.97841",
         "121.54281",
         "49.3"
        ],
        [
         "34",
         "15.4",
         "205.367",
         "7",
         "24.98419",
         "121.54243",
         "55.1"
        ],
        [
         "35",
         "13.9",
         "4079.418",
         "0",
         "25.01459",
         "121.51816",
         "27.3"
        ],
        [
         "36",
         "14.7",
         "1935.009",
         "2",
         "24.96386",
         "121.51458",
         "22.9"
        ],
        [
         "37",
         "12.0",
         "1360.139",
         "1",
         "24.95204",
         "121.54842",
         "25.3"
        ],
        [
         "38",
         "3.1",
         "577.9615",
         "6",
         "24.97201",
         "121.54722",
         "47.7"
        ],
        [
         "39",
         "16.2",
         "289.3248",
         "5",
         "24.98203",
         "121.54348",
         "46.2"
        ],
        [
         "40",
         "13.6",
         "4082.015",
         "0",
         "24.94155",
         "121.50381",
         "15.9"
        ],
        [
         "41",
         "16.8",
         "4066.587",
         "0",
         "24.94297",
         "121.50342",
         "18.2"
        ],
        [
         "42",
         "36.1",
         "519.4617",
         "5",
         "24.96305",
         "121.53758",
         "34.7"
        ],
        [
         "43",
         "34.4",
         "512.7871",
         "6",
         "24.98748",
         "121.54301",
         "34.1"
        ],
        [
         "44",
         "2.7",
         "533.4762",
         "4",
         "24.97445",
         "121.54765",
         "53.9"
        ],
        [
         "45",
         "36.6",
         "488.8193",
         "8",
         "24.97015",
         "121.54494",
         "38.3"
        ],
        [
         "46",
         "21.7",
         "463.9623",
         "9",
         "24.9703",
         "121.54458",
         "42.0"
        ],
        [
         "47",
         "35.9",
         "640.7391",
         "3",
         "24.97563",
         "121.53715",
         "61.5"
        ],
        [
         "48",
         "24.2",
         "4605.749",
         "0",
         "24.94684",
         "121.49578",
         "13.4"
        ],
        [
         "49",
         "29.4",
         "4510.359",
         "1",
         "24.94925",
         "121.49542",
         "13.2"
        ]
       ],
       "shape": {
        "columns": 6,
        "rows": 414
       }
      },
      "text/html": [
       "<div>\n",
       "<style scoped>\n",
       "    .dataframe tbody tr th:only-of-type {\n",
       "        vertical-align: middle;\n",
       "    }\n",
       "\n",
       "    .dataframe tbody tr th {\n",
       "        vertical-align: top;\n",
       "    }\n",
       "\n",
       "    .dataframe thead th {\n",
       "        text-align: right;\n",
       "    }\n",
       "</style>\n",
       "<table border=\"1\" class=\"dataframe\">\n",
       "  <thead>\n",
       "    <tr style=\"text-align: right;\">\n",
       "      <th></th>\n",
       "      <th>X2 house age</th>\n",
       "      <th>X3 distance to the nearest MRT station</th>\n",
       "      <th>X4 number of convenience stores</th>\n",
       "      <th>X5 latitude</th>\n",
       "      <th>X6 longitude</th>\n",
       "      <th>Y house price of unit area</th>\n",
       "    </tr>\n",
       "  </thead>\n",
       "  <tbody>\n",
       "    <tr>\n",
       "      <th>0</th>\n",
       "      <td>32.0</td>\n",
       "      <td>84.87882</td>\n",
       "      <td>10</td>\n",
       "      <td>24.98298</td>\n",
       "      <td>121.54024</td>\n",
       "      <td>37.9</td>\n",
       "    </tr>\n",
       "    <tr>\n",
       "      <th>1</th>\n",
       "      <td>19.5</td>\n",
       "      <td>306.59470</td>\n",
       "      <td>9</td>\n",
       "      <td>24.98034</td>\n",
       "      <td>121.53951</td>\n",
       "      <td>42.2</td>\n",
       "    </tr>\n",
       "    <tr>\n",
       "      <th>2</th>\n",
       "      <td>13.3</td>\n",
       "      <td>561.98450</td>\n",
       "      <td>5</td>\n",
       "      <td>24.98746</td>\n",
       "      <td>121.54391</td>\n",
       "      <td>47.3</td>\n",
       "    </tr>\n",
       "    <tr>\n",
       "      <th>3</th>\n",
       "      <td>13.3</td>\n",
       "      <td>561.98450</td>\n",
       "      <td>5</td>\n",
       "      <td>24.98746</td>\n",
       "      <td>121.54391</td>\n",
       "      <td>54.8</td>\n",
       "    </tr>\n",
       "    <tr>\n",
       "      <th>4</th>\n",
       "      <td>5.0</td>\n",
       "      <td>390.56840</td>\n",
       "      <td>5</td>\n",
       "      <td>24.97937</td>\n",
       "      <td>121.54245</td>\n",
       "      <td>43.1</td>\n",
       "    </tr>\n",
       "    <tr>\n",
       "      <th>...</th>\n",
       "      <td>...</td>\n",
       "      <td>...</td>\n",
       "      <td>...</td>\n",
       "      <td>...</td>\n",
       "      <td>...</td>\n",
       "      <td>...</td>\n",
       "    </tr>\n",
       "    <tr>\n",
       "      <th>409</th>\n",
       "      <td>13.7</td>\n",
       "      <td>4082.01500</td>\n",
       "      <td>0</td>\n",
       "      <td>24.94155</td>\n",
       "      <td>121.50381</td>\n",
       "      <td>15.4</td>\n",
       "    </tr>\n",
       "    <tr>\n",
       "      <th>410</th>\n",
       "      <td>5.6</td>\n",
       "      <td>90.45606</td>\n",
       "      <td>9</td>\n",
       "      <td>24.97433</td>\n",
       "      <td>121.54310</td>\n",
       "      <td>50.0</td>\n",
       "    </tr>\n",
       "    <tr>\n",
       "      <th>411</th>\n",
       "      <td>18.8</td>\n",
       "      <td>390.96960</td>\n",
       "      <td>7</td>\n",
       "      <td>24.97923</td>\n",
       "      <td>121.53986</td>\n",
       "      <td>40.6</td>\n",
       "    </tr>\n",
       "    <tr>\n",
       "      <th>412</th>\n",
       "      <td>8.1</td>\n",
       "      <td>104.81010</td>\n",
       "      <td>5</td>\n",
       "      <td>24.96674</td>\n",
       "      <td>121.54067</td>\n",
       "      <td>52.5</td>\n",
       "    </tr>\n",
       "    <tr>\n",
       "      <th>413</th>\n",
       "      <td>6.5</td>\n",
       "      <td>90.45606</td>\n",
       "      <td>9</td>\n",
       "      <td>24.97433</td>\n",
       "      <td>121.54310</td>\n",
       "      <td>63.9</td>\n",
       "    </tr>\n",
       "  </tbody>\n",
       "</table>\n",
       "<p>414 rows × 6 columns</p>\n",
       "</div>"
      ],
      "text/plain": [
       "     X2 house age  X3 distance to the nearest MRT station  \\\n",
       "0            32.0                                84.87882   \n",
       "1            19.5                               306.59470   \n",
       "2            13.3                               561.98450   \n",
       "3            13.3                               561.98450   \n",
       "4             5.0                               390.56840   \n",
       "..            ...                                     ...   \n",
       "409          13.7                              4082.01500   \n",
       "410           5.6                                90.45606   \n",
       "411          18.8                               390.96960   \n",
       "412           8.1                               104.81010   \n",
       "413           6.5                                90.45606   \n",
       "\n",
       "     X4 number of convenience stores  X5 latitude  X6 longitude  \\\n",
       "0                                 10     24.98298     121.54024   \n",
       "1                                  9     24.98034     121.53951   \n",
       "2                                  5     24.98746     121.54391   \n",
       "3                                  5     24.98746     121.54391   \n",
       "4                                  5     24.97937     121.54245   \n",
       "..                               ...          ...           ...   \n",
       "409                                0     24.94155     121.50381   \n",
       "410                                9     24.97433     121.54310   \n",
       "411                                7     24.97923     121.53986   \n",
       "412                                5     24.96674     121.54067   \n",
       "413                                9     24.97433     121.54310   \n",
       "\n",
       "     Y house price of unit area  \n",
       "0                          37.9  \n",
       "1                          42.2  \n",
       "2                          47.3  \n",
       "3                          54.8  \n",
       "4                          43.1  \n",
       "..                          ...  \n",
       "409                        15.4  \n",
       "410                        50.0  \n",
       "411                        40.6  \n",
       "412                        52.5  \n",
       "413                        63.9  \n",
       "\n",
       "[414 rows x 6 columns]"
      ]
     },
     "execution_count": 18,
     "metadata": {},
     "output_type": "execute_result"
    }
   ],
   "source": [
    "df"
   ]
  },
  {
   "cell_type": "code",
   "execution_count": 19,
   "id": "b58ba794",
   "metadata": {},
   "outputs": [
    {
     "data": {
      "text/plain": [
       "11"
      ]
     },
     "execution_count": 19,
     "metadata": {},
     "output_type": "execute_result"
    }
   ],
   "source": [
    "df[\"X4 number of convenience stores\"].nunique()"
   ]
  },
  {
   "cell_type": "code",
   "execution_count": 20,
   "id": "6b27f51b",
   "metadata": {},
   "outputs": [
    {
     "data": {
      "text/plain": [
       "Index(['X2 house age', 'X3 distance to the nearest MRT station',\n",
       "       'X4 number of convenience stores', 'X5 latitude', 'X6 longitude',\n",
       "       'Y house price of unit area'],\n",
       "      dtype='object')"
      ]
     },
     "execution_count": 20,
     "metadata": {},
     "output_type": "execute_result"
    }
   ],
   "source": [
    "df.columns"
   ]
  },
  {
   "cell_type": "markdown",
   "id": "3ee3afbb",
   "metadata": {},
   "source": [
    "# SPLIT DATA SET"
   ]
  },
  {
   "cell_type": "code",
   "execution_count": 21,
   "id": "b7fbcd3d",
   "metadata": {},
   "outputs": [
    {
     "data": {
      "text/plain": [
       "(414, 5)"
      ]
     },
     "execution_count": 21,
     "metadata": {},
     "output_type": "execute_result"
    }
   ],
   "source": [
    "features = [\"X2 house age\", \"X3 distance to the nearest MRT station\", \"X4 number of convenience stores\",\"X5 latitude\", \"X6 longitude\"]\n",
    "X = df[features]\n",
    "X_train = df[features]\n",
    "X_train.head()\n",
    "X_train.shape"
   ]
  },
  {
   "cell_type": "code",
   "execution_count": 22,
   "id": "cb48e1f5",
   "metadata": {},
   "outputs": [
    {
     "data": {
      "text/plain": [
       "(414,)"
      ]
     },
     "execution_count": 22,
     "metadata": {},
     "output_type": "execute_result"
    }
   ],
   "source": [
    "target = \"Y house price of unit area\"\n",
    "y = df[target]\n",
    "y_train = df[target]\n",
    "y_train.head()\n",
    "y_train.shape"
   ]
  },
  {
   "cell_type": "code",
   "execution_count": 23,
   "id": "6ae7bb80",
   "metadata": {},
   "outputs": [],
   "source": [
    "X_train, X_test, y_train, y_test = train_test_split(\n",
    "    X, y, \n",
    "    test_size=0.2, \n",
    "    random_state=42)"
   ]
  },
  {
   "cell_type": "markdown",
   "id": "f43728f6",
   "metadata": {},
   "source": [
    "# BUILD MODEL"
   ]
  },
  {
   "cell_type": "code",
   "execution_count": 24,
   "id": "8a0cea6f",
   "metadata": {},
   "outputs": [
    {
     "name": "stdout",
     "output_type": "stream",
     "text": [
      "Mean House Price: 38.39\n",
      "Baseline_Mae: 10.65\n"
     ]
    }
   ],
   "source": [
    "y_mean = y_train.mean()\n",
    "y_pred_baseline = [y_mean] * len(y_train)\n",
    "baseline_mae = mean_absolute_error(y_pred_baseline, y_train) \n",
    "print(f\"Mean House Price: {y_mean.round(2)}\")\n",
    "print(f\"Baseline_Mae: {baseline_mae.round(2)}\")"
   ]
  },
  {
   "cell_type": "markdown",
   "id": "17b2e677",
   "metadata": {},
   "source": [
    "# ITERATE"
   ]
  },
  {
   "cell_type": "code",
   "execution_count": 25,
   "id": "1ad22217",
   "metadata": {},
   "outputs": [],
   "source": [
    "lr_model = LinearRegression()"
   ]
  },
  {
   "cell_type": "code",
   "execution_count": 26,
   "id": "314e2443",
   "metadata": {},
   "outputs": [
    {
     "data": {
      "text/html": [
       "<style>#sk-container-id-1 {\n",
       "  /* Definition of color scheme common for light and dark mode */\n",
       "  --sklearn-color-text: black;\n",
       "  --sklearn-color-line: gray;\n",
       "  /* Definition of color scheme for unfitted estimators */\n",
       "  --sklearn-color-unfitted-level-0: #fff5e6;\n",
       "  --sklearn-color-unfitted-level-1: #f6e4d2;\n",
       "  --sklearn-color-unfitted-level-2: #ffe0b3;\n",
       "  --sklearn-color-unfitted-level-3: chocolate;\n",
       "  /* Definition of color scheme for fitted estimators */\n",
       "  --sklearn-color-fitted-level-0: #f0f8ff;\n",
       "  --sklearn-color-fitted-level-1: #d4ebff;\n",
       "  --sklearn-color-fitted-level-2: #b3dbfd;\n",
       "  --sklearn-color-fitted-level-3: cornflowerblue;\n",
       "\n",
       "  /* Specific color for light theme */\n",
       "  --sklearn-color-text-on-default-background: var(--sg-text-color, var(--theme-code-foreground, var(--jp-content-font-color1, black)));\n",
       "  --sklearn-color-background: var(--sg-background-color, var(--theme-background, var(--jp-layout-color0, white)));\n",
       "  --sklearn-color-border-box: var(--sg-text-color, var(--theme-code-foreground, var(--jp-content-font-color1, black)));\n",
       "  --sklearn-color-icon: #696969;\n",
       "\n",
       "  @media (prefers-color-scheme: dark) {\n",
       "    /* Redefinition of color scheme for dark theme */\n",
       "    --sklearn-color-text-on-default-background: var(--sg-text-color, var(--theme-code-foreground, var(--jp-content-font-color1, white)));\n",
       "    --sklearn-color-background: var(--sg-background-color, var(--theme-background, var(--jp-layout-color0, #111)));\n",
       "    --sklearn-color-border-box: var(--sg-text-color, var(--theme-code-foreground, var(--jp-content-font-color1, white)));\n",
       "    --sklearn-color-icon: #878787;\n",
       "  }\n",
       "}\n",
       "\n",
       "#sk-container-id-1 {\n",
       "  color: var(--sklearn-color-text);\n",
       "}\n",
       "\n",
       "#sk-container-id-1 pre {\n",
       "  padding: 0;\n",
       "}\n",
       "\n",
       "#sk-container-id-1 input.sk-hidden--visually {\n",
       "  border: 0;\n",
       "  clip: rect(1px 1px 1px 1px);\n",
       "  clip: rect(1px, 1px, 1px, 1px);\n",
       "  height: 1px;\n",
       "  margin: -1px;\n",
       "  overflow: hidden;\n",
       "  padding: 0;\n",
       "  position: absolute;\n",
       "  width: 1px;\n",
       "}\n",
       "\n",
       "#sk-container-id-1 div.sk-dashed-wrapped {\n",
       "  border: 1px dashed var(--sklearn-color-line);\n",
       "  margin: 0 0.4em 0.5em 0.4em;\n",
       "  box-sizing: border-box;\n",
       "  padding-bottom: 0.4em;\n",
       "  background-color: var(--sklearn-color-background);\n",
       "}\n",
       "\n",
       "#sk-container-id-1 div.sk-container {\n",
       "  /* jupyter's `normalize.less` sets `[hidden] { display: none; }`\n",
       "     but bootstrap.min.css set `[hidden] { display: none !important; }`\n",
       "     so we also need the `!important` here to be able to override the\n",
       "     default hidden behavior on the sphinx rendered scikit-learn.org.\n",
       "     See: https://github.com/scikit-learn/scikit-learn/issues/21755 */\n",
       "  display: inline-block !important;\n",
       "  position: relative;\n",
       "}\n",
       "\n",
       "#sk-container-id-1 div.sk-text-repr-fallback {\n",
       "  display: none;\n",
       "}\n",
       "\n",
       "div.sk-parallel-item,\n",
       "div.sk-serial,\n",
       "div.sk-item {\n",
       "  /* draw centered vertical line to link estimators */\n",
       "  background-image: linear-gradient(var(--sklearn-color-text-on-default-background), var(--sklearn-color-text-on-default-background));\n",
       "  background-size: 2px 100%;\n",
       "  background-repeat: no-repeat;\n",
       "  background-position: center center;\n",
       "}\n",
       "\n",
       "/* Parallel-specific style estimator block */\n",
       "\n",
       "#sk-container-id-1 div.sk-parallel-item::after {\n",
       "  content: \"\";\n",
       "  width: 100%;\n",
       "  border-bottom: 2px solid var(--sklearn-color-text-on-default-background);\n",
       "  flex-grow: 1;\n",
       "}\n",
       "\n",
       "#sk-container-id-1 div.sk-parallel {\n",
       "  display: flex;\n",
       "  align-items: stretch;\n",
       "  justify-content: center;\n",
       "  background-color: var(--sklearn-color-background);\n",
       "  position: relative;\n",
       "}\n",
       "\n",
       "#sk-container-id-1 div.sk-parallel-item {\n",
       "  display: flex;\n",
       "  flex-direction: column;\n",
       "}\n",
       "\n",
       "#sk-container-id-1 div.sk-parallel-item:first-child::after {\n",
       "  align-self: flex-end;\n",
       "  width: 50%;\n",
       "}\n",
       "\n",
       "#sk-container-id-1 div.sk-parallel-item:last-child::after {\n",
       "  align-self: flex-start;\n",
       "  width: 50%;\n",
       "}\n",
       "\n",
       "#sk-container-id-1 div.sk-parallel-item:only-child::after {\n",
       "  width: 0;\n",
       "}\n",
       "\n",
       "/* Serial-specific style estimator block */\n",
       "\n",
       "#sk-container-id-1 div.sk-serial {\n",
       "  display: flex;\n",
       "  flex-direction: column;\n",
       "  align-items: center;\n",
       "  background-color: var(--sklearn-color-background);\n",
       "  padding-right: 1em;\n",
       "  padding-left: 1em;\n",
       "}\n",
       "\n",
       "\n",
       "/* Toggleable style: style used for estimator/Pipeline/ColumnTransformer box that is\n",
       "clickable and can be expanded/collapsed.\n",
       "- Pipeline and ColumnTransformer use this feature and define the default style\n",
       "- Estimators will overwrite some part of the style using the `sk-estimator` class\n",
       "*/\n",
       "\n",
       "/* Pipeline and ColumnTransformer style (default) */\n",
       "\n",
       "#sk-container-id-1 div.sk-toggleable {\n",
       "  /* Default theme specific background. It is overwritten whether we have a\n",
       "  specific estimator or a Pipeline/ColumnTransformer */\n",
       "  background-color: var(--sklearn-color-background);\n",
       "}\n",
       "\n",
       "/* Toggleable label */\n",
       "#sk-container-id-1 label.sk-toggleable__label {\n",
       "  cursor: pointer;\n",
       "  display: block;\n",
       "  width: 100%;\n",
       "  margin-bottom: 0;\n",
       "  padding: 0.5em;\n",
       "  box-sizing: border-box;\n",
       "  text-align: center;\n",
       "}\n",
       "\n",
       "#sk-container-id-1 label.sk-toggleable__label-arrow:before {\n",
       "  /* Arrow on the left of the label */\n",
       "  content: \"▸\";\n",
       "  float: left;\n",
       "  margin-right: 0.25em;\n",
       "  color: var(--sklearn-color-icon);\n",
       "}\n",
       "\n",
       "#sk-container-id-1 label.sk-toggleable__label-arrow:hover:before {\n",
       "  color: var(--sklearn-color-text);\n",
       "}\n",
       "\n",
       "/* Toggleable content - dropdown */\n",
       "\n",
       "#sk-container-id-1 div.sk-toggleable__content {\n",
       "  max-height: 0;\n",
       "  max-width: 0;\n",
       "  overflow: hidden;\n",
       "  text-align: left;\n",
       "  /* unfitted */\n",
       "  background-color: var(--sklearn-color-unfitted-level-0);\n",
       "}\n",
       "\n",
       "#sk-container-id-1 div.sk-toggleable__content.fitted {\n",
       "  /* fitted */\n",
       "  background-color: var(--sklearn-color-fitted-level-0);\n",
       "}\n",
       "\n",
       "#sk-container-id-1 div.sk-toggleable__content pre {\n",
       "  margin: 0.2em;\n",
       "  border-radius: 0.25em;\n",
       "  color: var(--sklearn-color-text);\n",
       "  /* unfitted */\n",
       "  background-color: var(--sklearn-color-unfitted-level-0);\n",
       "}\n",
       "\n",
       "#sk-container-id-1 div.sk-toggleable__content.fitted pre {\n",
       "  /* unfitted */\n",
       "  background-color: var(--sklearn-color-fitted-level-0);\n",
       "}\n",
       "\n",
       "#sk-container-id-1 input.sk-toggleable__control:checked~div.sk-toggleable__content {\n",
       "  /* Expand drop-down */\n",
       "  max-height: 200px;\n",
       "  max-width: 100%;\n",
       "  overflow: auto;\n",
       "}\n",
       "\n",
       "#sk-container-id-1 input.sk-toggleable__control:checked~label.sk-toggleable__label-arrow:before {\n",
       "  content: \"▾\";\n",
       "}\n",
       "\n",
       "/* Pipeline/ColumnTransformer-specific style */\n",
       "\n",
       "#sk-container-id-1 div.sk-label input.sk-toggleable__control:checked~label.sk-toggleable__label {\n",
       "  color: var(--sklearn-color-text);\n",
       "  background-color: var(--sklearn-color-unfitted-level-2);\n",
       "}\n",
       "\n",
       "#sk-container-id-1 div.sk-label.fitted input.sk-toggleable__control:checked~label.sk-toggleable__label {\n",
       "  background-color: var(--sklearn-color-fitted-level-2);\n",
       "}\n",
       "\n",
       "/* Estimator-specific style */\n",
       "\n",
       "/* Colorize estimator box */\n",
       "#sk-container-id-1 div.sk-estimator input.sk-toggleable__control:checked~label.sk-toggleable__label {\n",
       "  /* unfitted */\n",
       "  background-color: var(--sklearn-color-unfitted-level-2);\n",
       "}\n",
       "\n",
       "#sk-container-id-1 div.sk-estimator.fitted input.sk-toggleable__control:checked~label.sk-toggleable__label {\n",
       "  /* fitted */\n",
       "  background-color: var(--sklearn-color-fitted-level-2);\n",
       "}\n",
       "\n",
       "#sk-container-id-1 div.sk-label label.sk-toggleable__label,\n",
       "#sk-container-id-1 div.sk-label label {\n",
       "  /* The background is the default theme color */\n",
       "  color: var(--sklearn-color-text-on-default-background);\n",
       "}\n",
       "\n",
       "/* On hover, darken the color of the background */\n",
       "#sk-container-id-1 div.sk-label:hover label.sk-toggleable__label {\n",
       "  color: var(--sklearn-color-text);\n",
       "  background-color: var(--sklearn-color-unfitted-level-2);\n",
       "}\n",
       "\n",
       "/* Label box, darken color on hover, fitted */\n",
       "#sk-container-id-1 div.sk-label.fitted:hover label.sk-toggleable__label.fitted {\n",
       "  color: var(--sklearn-color-text);\n",
       "  background-color: var(--sklearn-color-fitted-level-2);\n",
       "}\n",
       "\n",
       "/* Estimator label */\n",
       "\n",
       "#sk-container-id-1 div.sk-label label {\n",
       "  font-family: monospace;\n",
       "  font-weight: bold;\n",
       "  display: inline-block;\n",
       "  line-height: 1.2em;\n",
       "}\n",
       "\n",
       "#sk-container-id-1 div.sk-label-container {\n",
       "  text-align: center;\n",
       "}\n",
       "\n",
       "/* Estimator-specific */\n",
       "#sk-container-id-1 div.sk-estimator {\n",
       "  font-family: monospace;\n",
       "  border: 1px dotted var(--sklearn-color-border-box);\n",
       "  border-radius: 0.25em;\n",
       "  box-sizing: border-box;\n",
       "  margin-bottom: 0.5em;\n",
       "  /* unfitted */\n",
       "  background-color: var(--sklearn-color-unfitted-level-0);\n",
       "}\n",
       "\n",
       "#sk-container-id-1 div.sk-estimator.fitted {\n",
       "  /* fitted */\n",
       "  background-color: var(--sklearn-color-fitted-level-0);\n",
       "}\n",
       "\n",
       "/* on hover */\n",
       "#sk-container-id-1 div.sk-estimator:hover {\n",
       "  /* unfitted */\n",
       "  background-color: var(--sklearn-color-unfitted-level-2);\n",
       "}\n",
       "\n",
       "#sk-container-id-1 div.sk-estimator.fitted:hover {\n",
       "  /* fitted */\n",
       "  background-color: var(--sklearn-color-fitted-level-2);\n",
       "}\n",
       "\n",
       "/* Specification for estimator info (e.g. \"i\" and \"?\") */\n",
       "\n",
       "/* Common style for \"i\" and \"?\" */\n",
       "\n",
       ".sk-estimator-doc-link,\n",
       "a:link.sk-estimator-doc-link,\n",
       "a:visited.sk-estimator-doc-link {\n",
       "  float: right;\n",
       "  font-size: smaller;\n",
       "  line-height: 1em;\n",
       "  font-family: monospace;\n",
       "  background-color: var(--sklearn-color-background);\n",
       "  border-radius: 1em;\n",
       "  height: 1em;\n",
       "  width: 1em;\n",
       "  text-decoration: none !important;\n",
       "  margin-left: 1ex;\n",
       "  /* unfitted */\n",
       "  border: var(--sklearn-color-unfitted-level-1) 1pt solid;\n",
       "  color: var(--sklearn-color-unfitted-level-1);\n",
       "}\n",
       "\n",
       ".sk-estimator-doc-link.fitted,\n",
       "a:link.sk-estimator-doc-link.fitted,\n",
       "a:visited.sk-estimator-doc-link.fitted {\n",
       "  /* fitted */\n",
       "  border: var(--sklearn-color-fitted-level-1) 1pt solid;\n",
       "  color: var(--sklearn-color-fitted-level-1);\n",
       "}\n",
       "\n",
       "/* On hover */\n",
       "div.sk-estimator:hover .sk-estimator-doc-link:hover,\n",
       ".sk-estimator-doc-link:hover,\n",
       "div.sk-label-container:hover .sk-estimator-doc-link:hover,\n",
       ".sk-estimator-doc-link:hover {\n",
       "  /* unfitted */\n",
       "  background-color: var(--sklearn-color-unfitted-level-3);\n",
       "  color: var(--sklearn-color-background);\n",
       "  text-decoration: none;\n",
       "}\n",
       "\n",
       "div.sk-estimator.fitted:hover .sk-estimator-doc-link.fitted:hover,\n",
       ".sk-estimator-doc-link.fitted:hover,\n",
       "div.sk-label-container:hover .sk-estimator-doc-link.fitted:hover,\n",
       ".sk-estimator-doc-link.fitted:hover {\n",
       "  /* fitted */\n",
       "  background-color: var(--sklearn-color-fitted-level-3);\n",
       "  color: var(--sklearn-color-background);\n",
       "  text-decoration: none;\n",
       "}\n",
       "\n",
       "/* Span, style for the box shown on hovering the info icon */\n",
       ".sk-estimator-doc-link span {\n",
       "  display: none;\n",
       "  z-index: 9999;\n",
       "  position: relative;\n",
       "  font-weight: normal;\n",
       "  right: .2ex;\n",
       "  padding: .5ex;\n",
       "  margin: .5ex;\n",
       "  width: min-content;\n",
       "  min-width: 20ex;\n",
       "  max-width: 50ex;\n",
       "  color: var(--sklearn-color-text);\n",
       "  box-shadow: 2pt 2pt 4pt #999;\n",
       "  /* unfitted */\n",
       "  background: var(--sklearn-color-unfitted-level-0);\n",
       "  border: .5pt solid var(--sklearn-color-unfitted-level-3);\n",
       "}\n",
       "\n",
       ".sk-estimator-doc-link.fitted span {\n",
       "  /* fitted */\n",
       "  background: var(--sklearn-color-fitted-level-0);\n",
       "  border: var(--sklearn-color-fitted-level-3);\n",
       "}\n",
       "\n",
       ".sk-estimator-doc-link:hover span {\n",
       "  display: block;\n",
       "}\n",
       "\n",
       "/* \"?\"-specific style due to the `<a>` HTML tag */\n",
       "\n",
       "#sk-container-id-1 a.estimator_doc_link {\n",
       "  float: right;\n",
       "  font-size: 1rem;\n",
       "  line-height: 1em;\n",
       "  font-family: monospace;\n",
       "  background-color: var(--sklearn-color-background);\n",
       "  border-radius: 1rem;\n",
       "  height: 1rem;\n",
       "  width: 1rem;\n",
       "  text-decoration: none;\n",
       "  /* unfitted */\n",
       "  color: var(--sklearn-color-unfitted-level-1);\n",
       "  border: var(--sklearn-color-unfitted-level-1) 1pt solid;\n",
       "}\n",
       "\n",
       "#sk-container-id-1 a.estimator_doc_link.fitted {\n",
       "  /* fitted */\n",
       "  border: var(--sklearn-color-fitted-level-1) 1pt solid;\n",
       "  color: var(--sklearn-color-fitted-level-1);\n",
       "}\n",
       "\n",
       "/* On hover */\n",
       "#sk-container-id-1 a.estimator_doc_link:hover {\n",
       "  /* unfitted */\n",
       "  background-color: var(--sklearn-color-unfitted-level-3);\n",
       "  color: var(--sklearn-color-background);\n",
       "  text-decoration: none;\n",
       "}\n",
       "\n",
       "#sk-container-id-1 a.estimator_doc_link.fitted:hover {\n",
       "  /* fitted */\n",
       "  background-color: var(--sklearn-color-fitted-level-3);\n",
       "}\n",
       "</style><div id=\"sk-container-id-1\" class=\"sk-top-container\"><div class=\"sk-text-repr-fallback\"><pre>LinearRegression()</pre><b>In a Jupyter environment, please rerun this cell to show the HTML representation or trust the notebook. <br />On GitHub, the HTML representation is unable to render, please try loading this page with nbviewer.org.</b></div><div class=\"sk-container\" hidden><div class=\"sk-item\"><div class=\"sk-estimator fitted sk-toggleable\"><input class=\"sk-toggleable__control sk-hidden--visually\" id=\"sk-estimator-id-1\" type=\"checkbox\" checked><label for=\"sk-estimator-id-1\" class=\"sk-toggleable__label fitted sk-toggleable__label-arrow fitted\">&nbsp;&nbsp;LinearRegression<a class=\"sk-estimator-doc-link fitted\" rel=\"noreferrer\" target=\"_blank\" href=\"https://scikit-learn.org/1.5/modules/generated/sklearn.linear_model.LinearRegression.html\">?<span>Documentation for LinearRegression</span></a><span class=\"sk-estimator-doc-link fitted\">i<span>Fitted</span></span></label><div class=\"sk-toggleable__content fitted\"><pre>LinearRegression()</pre></div> </div></div></div></div>"
      ],
      "text/plain": [
       "LinearRegression()"
      ]
     },
     "execution_count": 26,
     "metadata": {},
     "output_type": "execute_result"
    }
   ],
   "source": [
    "lr_model.fit(X_train,y_train)"
   ]
  },
  {
   "cell_type": "code",
   "execution_count": 27,
   "id": "39a09f97",
   "metadata": {},
   "outputs": [
    {
     "data": {
      "text/plain": [
       "array([38.33909826, 33.77517449, 33.83202309, 39.95337348, 44.32296935])"
      ]
     },
     "execution_count": 27,
     "metadata": {},
     "output_type": "execute_result"
    }
   ],
   "source": [
    "y_pred_training = lr_model.predict(X_train)\n",
    "y_pred_training[:5]"
   ]
  },
  {
   "cell_type": "code",
   "execution_count": 28,
   "id": "ceddb21f",
   "metadata": {},
   "outputs": [
    {
     "name": "stdout",
     "output_type": "stream",
     "text": [
      "Training MAE: 6.39\n"
     ]
    }
   ],
   "source": [
    "mae_training = mean_absolute_error(y_train, y_pred_training)\n",
    "print(f\"Training MAE: {mae_training:.2f}\")"
   ]
  },
  {
   "cell_type": "code",
   "execution_count": 29,
   "id": "13684022",
   "metadata": {},
   "outputs": [
    {
     "data": {
      "text/plain": [
       "array([47.74180481, 41.95484652, 44.5399885 , 41.33697932, 30.28548   ])"
      ]
     },
     "execution_count": 29,
     "metadata": {},
     "output_type": "execute_result"
    }
   ],
   "source": [
    "y_pred_test = lr_model.predict(X_test)\n",
    "y_pred_test[:5]"
   ]
  },
  {
   "cell_type": "code",
   "execution_count": 30,
   "id": "47fec071",
   "metadata": {},
   "outputs": [
    {
     "name": "stdout",
     "output_type": "stream",
     "text": [
      "TEST MAE: 5.35\n"
     ]
    }
   ],
   "source": [
    "mae_test = mean_absolute_error(y_test,y_pred_test)\n",
    "print(f\"TEST MAE: {mae_test:.2f}\")"
   ]
  },
  {
   "cell_type": "markdown",
   "id": "781dce10",
   "metadata": {},
   "source": [
    " # Communicate Result"
   ]
  },
  {
   "cell_type": "code",
   "execution_count": 31,
   "id": "cb9cbc58",
   "metadata": {},
   "outputs": [
    {
     "name": "stdout",
     "output_type": "stream",
     "text": [
      "MODEL INTERCEPT:-2946.66\n"
     ]
    }
   ],
   "source": [
    "intercept = lr_model.intercept_\n",
    "print(f\"MODEL INTERCEPT:{intercept:.2f}\")"
   ]
  },
  {
   "cell_type": "code",
   "execution_count": 32,
   "id": "81ebecdd",
   "metadata": {},
   "outputs": [
    {
     "name": "stdout",
     "output_type": "stream",
     "text": [
      "MODEL COEFFICIENT FOR X2 house age: -0.27\n",
      "MODEL COEFFICIENT FOR X3 distance to the nearest MRT station: -0.00\n",
      "MODEL COEFFICIENT FOR X4 number of convenience stores: 1.11\n",
      "MODEL COEFFICIENT FOR X5 latitude: 236.09\n",
      "MODEL COEFFICIENT FOR X6 longitude: -23.90\n"
     ]
    }
   ],
   "source": [
    "coefficient = lr_model.coef_[0:]\n",
    "for i in range(len(coefficient)):\n",
    "    print(f\"MODEL COEFFICIENT FOR {features[i]}: {coefficient[i]:.2f}\")\n",
    " "
   ]
  },
  {
   "cell_type": "markdown",
   "id": "33fe29f6",
   "metadata": {},
   "source": [
    "# GENERATE EQUATION"
   ]
  },
  {
   "cell_type": "code",
   "execution_count": 33,
   "id": "bdf5b6dc",
   "metadata": {},
   "outputs": [
    {
     "name": "stdout",
     "output_type": "stream",
     "text": [
      "MODEL EQUATION:Y = -2946.66 + -0.27 * X2 house age + -0.00 * X3 distance to the nearest MRT station + 1.11 * X4 number of convenience stores + 236.09 * X5 latitude + -23.90 * X6 longitude\n"
     ]
    }
   ],
   "source": [
    "equation = f\"Y = {intercept:.2f} + {coefficient[0]:.2f} * X2 house age + {coefficient[1]:.2f} * X3 distance to the nearest MRT station + {coefficient[2]:.2f} * X4 number of convenience stores + {coefficient[3]:.2f} * X5 latitude + {coefficient[4]:.2f} * X6 longitude\" \n",
    "print(f\"MODEL EQUATION:{equation}\")\n"
   ]
  },
  {
   "cell_type": "code",
   "execution_count": 42,
   "id": "5361fbd8",
   "metadata": {},
   "outputs": [],
   "source": [
    "def predict_price(house_age, distance_to_mrt, num_convenience_stores, latitude, longitude):\n",
    "    input_data = np.array([[house_age, distance_to_mrt, num_convenience_stores, latitude, longitude]])\n",
    "    predicted_price = lr_model.predict(input_data)\n",
    "    return predicted_price[0]"
   ]
  },
  {
   "cell_type": "code",
   "execution_count": 43,
   "id": "d9ee7d46",
   "metadata": {},
   "outputs": [
    {
     "name": "stdout",
     "output_type": "stream",
     "text": [
      "Predicted House Price: 49.63\n"
     ]
    },
    {
     "name": "stderr",
     "output_type": "stream",
     "text": [
      "c:\\Users\\user\\AppData\\Local\\Programs\\Python\\Python312\\Lib\\site-packages\\sklearn\\base.py:493: UserWarning:\n",
      "\n",
      "X does not have valid feature names, but LinearRegression was fitted with feature names\n",
      "\n"
     ]
    }
   ],
   "source": [
    "result = predict_price(10, 1000, 5, 25.0, 121.5)\n",
    "print(f\"Predicted House Price: {result:.2f}\")"
   ]
  },
  {
   "cell_type": "code",
   "execution_count": 51,
   "id": "2943d17b",
   "metadata": {},
   "outputs": [
    {
     "data": {
      "application/vnd.jupyter.widget-view+json": {
       "model_id": "4c2e7c674846459e839c5222bdf7764d",
       "version_major": 2,
       "version_minor": 0
      },
      "text/plain": [
       "interactive(children=(FloatSlider(value=0.0, description='house_age', max=1.0), FloatSlider(value=23.38284, de…"
      ]
     },
     "metadata": {},
     "output_type": "display_data"
    }
   ],
   "source": [
    "interact(predict_price,\n",
    "         house_age= df[\"X2 house age\"].min(),\n",
    "         distance_to_mrt= df[\"X3 distance to the nearest MRT station\"].min(),\n",
    "        num_convenience_stores= df[\"X4 number of convenience stores\"].min(),\n",
    "        latitude= df[\"X5 latitude\"].min(),\n",
    "        longitude= df[\"X6 longitude\"].min()\n",
    "        );\n",
    "# This will create an interactive widget to input values for prediction\n",
    "# and display the predicted house price.\n",
    "    "
   ]
  },
  {
   "cell_type": "code",
   "execution_count": 34,
   "id": "e47d5b4f",
   "metadata": {},
   "outputs": [
    {
     "data": {
      "image/png": "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",
      "text/plain": [
       "<Figure size 1000x600 with 1 Axes>"
      ]
     },
     "metadata": {},
     "output_type": "display_data"
    }
   ],
   "source": [
    "plotting = pd.DataFrame({\"y_test\": y_test, \"y_pred\": y_pred_test})\n",
    "plotting[\"residuals\"] = plotting[\"y_test\"] - plotting[\"y_pred\"]\n",
    "plotting[\"residuals\"].describe()\n",
    "plt.figure(figsize=(10, 6))\n",
    "plt.scatter(plotting[\"y_test\"], plotting[\"residuals\"], alpha=0.5)\n",
    "plt.axhline(0, color=\"red\", linestyle=\"--\")\n",
    "plt.xlabel(\"House Price\")\n",
    "plt.ylabel(\"House Price Residuals\")\n",
    "plt.title(\"Residuals vs. House Prices\");"
   ]
  },
  {
   "cell_type": "markdown",
   "id": "1dbe886a",
   "metadata": {},
   "source": [
    "### Features:\n",
    "1. `X2 house age`: Age of the house.\n",
    "2. `X3 distance to the nearest MRT station`: Distance to the nearest MRT station.\n",
    "3. `X4 number of convenience stores`: Number of convenience stores nearby.\n",
    "4. `X5 latitude`: Latitude of the house.\n",
    "5. `X6 longitude`: Longitude of the house.\n",
    "\n",
    "### Model Summary:\n",
    "- **Intercept**: `-2946.66`\n",
    "- **Coefficients**:\n",
    "    - `X2 house age`: `-0.27` (negative correlation with house price)\n",
    "    - `X3 distance to the nearest MRT station`: `-0.00` (minimal impact)\n",
    "    - `X4 number of convenience stores`: `1.11` (positive correlation with house price)\n",
    "    - `X5 latitude`: `236.09` (positive correlation with house price)\n",
    "    - `X6 longitude`: `-23.90` (negative correlation with house price)\n",
    "\n",
    "### Performance:\n",
    "- **Training MAE**: `6.39`\n",
    "- **Test MAE**: `5.35`\n",
    "\n",
    "### Key Observations:\n",
    "1. **House Age**: Older houses tend to have slightly lower prices.\n",
    "2. **Distance to MRT Station**: Minimal impact on house price.\n",
    "3. **Convenience Stores**: More stores nearby increase house prices.\n",
    "4. **Latitude and Longitude**: Location significantly impacts house prices.\n",
    "\n",
    "### Conclusion:\n",
    "The model performs reasonably well, with a low Mean Absolute Error (MAE). It highlights that proximity to convenience stores and location (latitude/longitude) are the most influential factors in determining house prices."
   ]
  },
  {
   "cell_type": "markdown",
   "id": "f650f12d",
   "metadata": {},
   "source": [
    "plt.plot(X_train,model.predict(X_train), color = \"red\", label = \"LINEAR MODEL\")\n",
    "plt.scatter(X_train, y_train)\n",
    "plt.xlabel(\"surface covered [sq meters]\")\n",
    "plt.ylabel(\"price [usd]\")\n",
    "plt.legend();"
   ]
  }
 ],
 "metadata": {
  "kernelspec": {
   "display_name": "Python 3",
   "language": "python",
   "name": "python3"
  },
  "language_info": {
   "codemirror_mode": {
    "name": "ipython",
    "version": 3
   },
   "file_extension": ".py",
   "mimetype": "text/x-python",
   "name": "python",
   "nbconvert_exporter": "python",
   "pygments_lexer": "ipython3",
   "version": "3.12.3"
  }
 },
 "nbformat": 4,
 "nbformat_minor": 5
}
